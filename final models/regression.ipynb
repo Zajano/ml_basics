{
  "nbformat": 4,
  "nbformat_minor": 0,
  "metadata": {
    "colab": {
      "name": "KMeans_Clustering.ipynb",
      "provenance": [],
      "collapsed_sections": []
    },
    "kernelspec": {
      "name": "python3",
      "display_name": "Python 3"
    }
  },
  "cells": [
    {
      "source": [
        "# Game Classification Model"
      ],
      "cell_type": "markdown",
      "metadata": {
        "id": "UID9RK1qDlVB",
        "colab_type": "text"
      }
    },
    {
      "cell_type": "code",
      "metadata": {
        "id": "kO_1kOEGDTws",
        "colab_type": "code",
        "colab": {
          "base_uri": "https://localhost:8080/",
          "height": 195
        },
        "outputId": "eccc66bd-8b04-4d4f-faa1-b4b0d22df5c8"
      },
      "source": [
        "import os\n",
        "import numpy as np\n",
        "import matplotlib.pyplot as plt\n",
        "import pandas as pd\n",
        "from sklearn.model_selection import train_test_split, cross_val_score\n",
        "from sklearn.preprocessing import PolynomialFeatures\n",
        "from sklearn.linear_model import LinearRegression\n",
        "from sklearn import metrics\n",
        "import math\n",
        "\n",
        "os.chdir(r\"C:\\Users\\Zack\\Desktop\\work\\OSU\\406 - p2 - learning\\jupyter practice\\final models\")\n",
        "game_data = pd.read_csv('game_data.csv') # already filtered buy num_reviews >= 30\n",
        "# game_data.head() # See the first 5 rows"
      ],
      "execution_count": 1,
      "outputs": []
    },
    {
      "cell_type": "markdown",
      "metadata": {
        "id": "q_pPmK9GIKMz",
        "colab_type": "text"
      },
      "source": [
        "### clean and filter data"
      ]
    },
    {
      "cell_type": "code",
      "metadata": {
        "id": "WevSKogFEalU",
        "colab_type": "code",
        "colab": {
          "base_uri": "https://localhost:8080/",
          "height": 295
        },
        "outputId": "dc31b65e-b7f5-4116-ec89-5790fdb604bc"
      },
      "source": [
        "# bgg_games = game_data[game_data['type'] == 'boardgame'] # no expansions\n",
        "bgg_games = game_data[game_data['year'] > 1980]\n",
        "# bgg_games = bgg_games[bgg_games['year'] > 1980]\n",
        "bgg_games = bgg_games[bgg_games['maxplayers'] <= 30]\n",
        "bgg_games = bgg_games[bgg_games['minplaytime'] <= 180] # 120 - 90th percentile\n",
        "bgg_games = bgg_games[bgg_games['maxplaytime'] <= 720]\n",
        "bgg_games = bgg_games[bgg_games['minage'] <= 21]\n",
        "bgg_games = bgg_games[bgg_games['playingtime'] >= 10]"
      ],
      "execution_count": 2,
      "outputs": []
    },
    {
      "cell_type": "code",
      "execution_count": 3,
      "metadata": {},
      "outputs": [],
      "source": [
        "# cell for data exploration\n",
        "# bgg_games.columns"
      ]
    },
    {
      "source": [
        "### select cells potentially relevant to rating (before community interaction)"
      ],
      "cell_type": "markdown",
      "metadata": {}
    },
    {
      "cell_type": "code",
      "execution_count": 4,
      "metadata": {},
      "outputs": [],
      "source": [
        "dtc_test = bgg_games[['type', 'minplayers', 'maxplayers', 'playingtime',\n",
        "       'minplaytime', 'maxplaytime', 'minage', 'avg_rating', 'mechanics',\n",
        "       'bay_rating', 'total_comments', 'total_weights', 'complexity', 'categories']]"
      ]
    },
    {
      "cell_type": "code",
      "execution_count": 5,
      "metadata": {},
      "outputs": [],
      "source": [
        "# for player pool size\n",
        "dtc_test = dtc_test[dtc_test['maxplayers'] >= dtc_test['minplayers']]"
      ]
    },
    {
      "source": [
        "#### convert mechanics and categories into lists with values"
      ],
      "cell_type": "markdown",
      "metadata": {}
    },
    {
      "cell_type": "code",
      "execution_count": 6,
      "metadata": {},
      "outputs": [],
      "source": [
        "dtc_test['categories'] = dtc_test['categories'].apply(lambda x: x.strip('][').split(', ') )\n",
        "dtc_test['mechanics'] = dtc_test['mechanics'].apply(lambda x: x.strip('][').split(', ') )"
      ]
    },
    {
      "source": [
        "#### count number of mechanics and categories for each game, make new columns"
      ],
      "cell_type": "markdown",
      "metadata": {}
    },
    {
      "cell_type": "code",
      "execution_count": 7,
      "metadata": {},
      "outputs": [],
      "source": [
        "num_mechs = []\n",
        "num_cats = []\n",
        "for index, row in dtc_test.iterrows():\n",
        "    num_mechs.append(len(row['mechanics']))\n",
        "    num_cats.append(len(row['categories']))\n",
        "\n",
        "dtc_test['num_mechs'] = num_mechs\n",
        "dtc_test['num_cats'] = num_cats\n",
        "dtc_test['player_diff'] = dtc_test.maxplayers - dtc_test.minplayers"
      ]
    },
    {
      "cell_type": "code",
      "execution_count": 8,
      "metadata": {},
      "outputs": [
        {
          "output_type": "execute_result",
          "data": {
            "text/plain": [
              "count    20905.000000\n",
              "mean        64.891701\n",
              "std         54.955134\n",
              "min         10.000000\n",
              "25%         30.000000\n",
              "50%         45.000000\n",
              "75%         90.000000\n",
              "max        720.000000\n",
              "Name: playingtime, dtype: float64"
            ]
          },
          "metadata": {},
          "execution_count": 8
        }
      ],
      "source": [
        "# explore data\n",
        "dtc_test['playingtime'].describe()"
      ]
    },
    {
      "cell_type": "code",
      "execution_count": 9,
      "metadata": {},
      "outputs": [
        {
          "output_type": "execute_result",
          "data": {
            "text/plain": [
              "30     3722\n",
              "60     3703\n",
              "45     2489\n",
              "120    2237\n",
              "90     2227\n",
              "       ... \n",
              "23        1\n",
              "38        1\n",
              "165       1\n",
              "68        1\n",
              "95        1\n",
              "Name: playingtime, Length: 65, dtype: int64"
            ]
          },
          "metadata": {},
          "execution_count": 9
        }
      ],
      "source": [
        "# data exploration\n",
        "dtc_test['playingtime'].value_counts(dropna=False)"
      ]
    },
    {
      "cell_type": "code",
      "execution_count": 10,
      "metadata": {},
      "outputs": [
        {
          "output_type": "execute_result",
          "data": {
            "text/plain": [
              "0"
            ]
          },
          "metadata": {},
          "execution_count": 10
        }
      ],
      "source": [
        "# data exploration\n",
        "dtc_test.loc[dtc_test.playingtime < 10, 'playingtime'].count()\n",
        "\n",
        "# dtc_test['time_diff'] = dtc_test.maxplaytime - dtc_test.minplaytime"
      ]
    },
    {
      "cell_type": "code",
      "execution_count": 11,
      "metadata": {},
      "outputs": [],
      "source": [
        "def split_data_frame_list(df, target_column, output_type=str):\n",
        "    ''' \n",
        "    Accepts a column with list values and splits into several rows.\n",
        "\n",
        "    df: dataframe to split\n",
        "    target_column: the column containing the values to split\n",
        "    output_type: type of all outputs\n",
        "    returns: a dataframe with each entry for the target column separated, with each element moved into a new row. \n",
        "    The values in the other columns are duplicated across the newly divided rows.\n",
        "    '''\n",
        "    row_accumulator = []\n",
        "\n",
        "    def split_list_to_rows(row):\n",
        "        split_row = row[target_column]\n",
        "        if isinstance(split_row, list):\n",
        "          for s in split_row:\n",
        "              new_row = row.to_dict()\n",
        "              new_row[target_column] = output_type(s)\n",
        "              row_accumulator.append(new_row)\n",
        "        else:\n",
        "          new_row = row.to_dict()\n",
        "          new_row[target_column] = output_type(split_row)\n",
        "          row_accumulator.append(new_row)\n",
        "  \n",
        "    df.apply(split_list_to_rows, axis=1)\n",
        "    new_df = pd.DataFrame(row_accumulator)\n",
        "  \n",
        "    return new_df\n",
        "\n",
        "def dupe_data_frame_list(df, target_column, output_type=list):\n",
        "    ''' \n",
        "    duplicate rows for each value in a list instead (for 'y_test' only)\n",
        "    '''\n",
        "    row_accumulator = []\n",
        "\n",
        "    def dupe_list_to_rows(row):\n",
        "        split_row = row[target_column]\n",
        "        if isinstance(split_row, list):\n",
        "          for s in split_row:\n",
        "              new_row = row.to_dict()\n",
        "              new_row[target_column] = output_type(split_row)\n",
        "              row_accumulator.append(new_row)\n",
        "        else:\n",
        "          new_row = row.to_dict()\n",
        "          new_row[target_column] = output_type(split_row)\n",
        "          row_accumulator.append(new_row)\n",
        "  \n",
        "    df.apply(dupe_list_to_rows, axis=1)\n",
        "    new_df = pd.DataFrame(row_accumulator)\n",
        "  \n",
        "    return new_df"
      ]
    },
    {
      "source": [
        "#### split lists into multiple rows for regression model"
      ],
      "cell_type": "markdown",
      "metadata": {}
    },
    {
      "cell_type": "code",
      "execution_count": 12,
      "metadata": {},
      "outputs": [],
      "source": [
        "dtc_test = split_data_frame_list(dtc_test, 'categories')\n",
        "dtc_test = split_data_frame_list(dtc_test, 'mechanics')"
      ]
    },
    {
      "cell_type": "code",
      "execution_count": 13,
      "metadata": {},
      "outputs": [
        {
          "output_type": "stream",
          "name": "stdout",
          "text": [
            "['type', 'minplayers', 'maxplayers', 'playingtime', 'minplaytime', 'maxplaytime', 'minage', 'avg_rating', 'mechanics', 'bay_rating', 'total_comments', 'total_weights', 'complexity', 'categories', 'num_mechs', 'num_cats', 'player_diff']\n"
          ]
        }
      ],
      "source": [
        "print(list(dtc_test.columns))"
      ]
    },
    {
      "source": [
        "#### get all desired cols and apply one-hot fix to categorical features"
      ],
      "cell_type": "markdown",
      "metadata": {}
    },
    {
      "cell_type": "code",
      "execution_count": 14,
      "metadata": {},
      "outputs": [],
      "source": [
        "# for filtering cols\n",
        "desired_cols = ['type', 'minplayers', 'maxplayers', 'playingtime', 'minplaytime', 'maxplaytime', 'minage', 'avg_rating', 'bay_rating', 'complexity', 'categories', 'mechanics', 'num_mechs', 'num_cats', 'player_diff']\n",
        "\n",
        "# make dummies (one-hot fix) for categorical values and attach to frame for tree model\n",
        "model_frame = dtc_test[desired_cols]\n",
        "mech_dummies = pd.get_dummies(model_frame['mechanics'], prefix='mech', drop_first=True)\n",
        "model_frame = pd.concat([model_frame, mech_dummies], axis=1)\n",
        "cat_dummies = pd.get_dummies(model_frame['categories'], prefix='cat', drop_first=True)\n",
        "model_frame = pd.concat([model_frame, cat_dummies], axis=1)\n",
        "type_dummies = pd.get_dummies(model_frame['type'], prefix='type', drop_first=True)\n",
        "model_frame = pd.concat([model_frame, type_dummies], axis=1)"
      ]
    },
    {
      "source": [
        "#### filter out categorical columns for tree fitting"
      ],
      "cell_type": "markdown",
      "metadata": {}
    },
    {
      "cell_type": "code",
      "execution_count": 15,
      "metadata": {},
      "outputs": [],
      "source": [
        "# list of just desired features, now including one-hot cols and remove categorical cols\n",
        "features = list(model_frame.columns)\n",
        "\n",
        "# remove categorical cols\n",
        "features.remove('mechanics')\n",
        "features.remove('categories')\n",
        "features.remove('type')\n",
        "\n",
        "# remove target cols\n",
        "features.remove('avg_rating')\n",
        "features.remove('bay_rating')\n",
        "\n",
        "# for col in desired_cols:\n",
        "#     features.remove(col)\n",
        "# print(features)"
      ]
    },
    {
      "source": [
        "### Divide the data set\n",
        "#### split data into training portions"
      ],
      "cell_type": "markdown",
      "metadata": {}
    },
    {
      "cell_type": "code",
      "execution_count": 16,
      "metadata": {},
      "outputs": [
        {
          "output_type": "stream",
          "name": "stdout",
          "text": [
            "done!\n"
          ]
        }
      ],
      "source": [
        "# filtered features with one-hot fixes for categorical columns\n",
        "X = model_frame[features]\n",
        "\n",
        "# target variable - bays because it's not as dramatic\n",
        "y = model_frame[['bay_rating']]\n",
        "\n",
        "# Split method, 0.3 == 30% of data saved for testing, choosen randomly from set\n",
        "X_train, X_test, y_train, y_test = train_test_split(X, y, test_size=0.3, random_state=1)\n",
        "print('done!')"
      ]
    },
    {
      "source": [
        "### feature selection"
      ],
      "cell_type": "markdown",
      "metadata": {}
    },
    {
      "cell_type": "code",
      "execution_count": 17,
      "metadata": {},
      "outputs": [],
      "source": [
        "from sklearn.feature_selection import SelectKBest\n",
        "from sklearn.feature_selection import f_regression\n",
        "\n",
        "# selection with f_regression for scoring feature relationships\n",
        "def select_features(X_train, y_train, X_test):\n",
        "\t# configure to select all features\n",
        "\tfs = SelectKBest(score_func=f_regression, k='all')\n",
        "\t# learn relationship from training data\n",
        "\tfs.fit(X_train, y_train)\n",
        "\t# transform train input data\n",
        "\tX_train_fs = fs.transform(X_train)\n",
        "\t# transform test input data\n",
        "\tX_test_fs = fs.transform(X_test)\n",
        "\t# return feature selection model and scores\n",
        "\treturn X_train_fs, X_test_fs, fs"
      ]
    },
    {
      "cell_type": "code",
      "execution_count": 18,
      "metadata": {},
      "outputs": [
        {
          "output_type": "stream",
          "name": "stdout",
          "text": [
            "Feature 0: 301.770624\nFeature 1: 32.370104\nFeature 2: 4955.206265\nFeature 3: 3285.979632\nFeature 4: 4955.206265\nFeature 5: 4382.278248\nFeature 6: 17519.947168\nFeature 7: 22147.586545\nFeature 8: 1128.924581\nFeature 9: 0.639315\nFeature 10: 25.004708\nFeature 11: 65.942429\nFeature 12: 233.590523\nFeature 13: 9.827661\nFeature 14: 0.040232\nFeature 15: 196.888333\nFeature 16: 0.367080\nFeature 17: 23.311975\nFeature 18: 198.957298\nFeature 19: 62.558664\nFeature 20: 87.929914\nFeature 21: 9.438684\nFeature 22: 0.535952\nFeature 23: 1.050052\nFeature 24: 0.120024\nFeature 25: 8.640421\nFeature 26: 49.623409\nFeature 27: 7.851722\nFeature 28: 0.038924\nFeature 29: 36.612944\nFeature 30: 35.616351\nFeature 31: 55.837020\nFeature 32: 194.070796\nFeature 33: 51.987525\nFeature 34: 18.997872\nFeature 35: 8.345363\nFeature 36: 16.240711\nFeature 37: 0.432879\nFeature 38: 4.096313\nFeature 39: 121.511348\nFeature 40: 78.093150\nFeature 41: 11.531135\nFeature 42: 50.623908\nFeature 43: 19.316361\nFeature 44: 17.732748\nFeature 45: 4.709279\nFeature 46: 111.010007\nFeature 47: 60.638174\nFeature 48: 32.405347\nFeature 49: 225.704458\nFeature 50: 0.452568\nFeature 51: 0.059317\nFeature 52: 101.886220\nFeature 53: 34.330919\nFeature 54: 1.712456\nFeature 55: 72.007946\nFeature 56: 10.421384\nFeature 57: 39.344216\nFeature 58: 151.306419\nFeature 59: 57.254771\nFeature 60: 2.468011\nFeature 61: 145.620286\nFeature 62: 29.278969\nFeature 63: 11.467280\nFeature 64: 468.793024\nFeature 65: 86.040174\nFeature 66: 2.493481\nFeature 67: 28.807352\nFeature 68: 239.905527\nFeature 69: 125.974577\nFeature 70: 135.043035\nFeature 71: 4.522609\nFeature 72: 33.887366\nFeature 73: 141.917866\nFeature 74: 118.753101\nFeature 75: 211.808146\nFeature 76: 55.093916\nFeature 77: 41.543409\nFeature 78: 0.012568\nFeature 79: 6.282927\nFeature 80: 0.323287\nFeature 81: 362.493141\nFeature 82: 389.650477\nFeature 83: 2.551038\nFeature 84: 18.748137\nFeature 85: 31.256377\nFeature 86: 10.673934\nFeature 87: 6.077166\nFeature 88: 0.000513\nFeature 89: 19.298121\nFeature 90: 64.749575\nFeature 91: 17.498422\nFeature 92: 18.928750\nFeature 93: 125.025751\nFeature 94: 13.532033\nFeature 95: 11.643150\nFeature 96: 118.856615\nFeature 97: 10.232611\nFeature 98: 28.127797\nFeature 99: 99.850708\nFeature 100: nan\nFeature 101: 0.964017\nFeature 102: 8.692935\nFeature 103: 187.897331\nFeature 104: 10.311384\nFeature 105: 0.038721\nFeature 106: 13.448953\nFeature 107: 12.760196\nFeature 108: 32.220881\nFeature 109: 42.791591\nFeature 110: 14.304262\nFeature 111: 2.418628\nFeature 112: 103.944700\nFeature 113: 60.756069\nFeature 114: 60.282253\nFeature 115: 105.644255\nFeature 116: 131.753075\nFeature 117: 175.137104\nFeature 118: 47.242021\nFeature 119: 17.669498\nFeature 120: 88.182938\nFeature 121: 15.575125\nFeature 122: 165.656477\nFeature 123: 0.824572\nFeature 124: 0.659745\nFeature 125: 8.613387\nFeature 126: 12.729688\nFeature 127: 0.300149\nFeature 128: 3.066753\nFeature 129: 7.454244\nFeature 130: 43.791550\nFeature 131: 23.792210\nFeature 132: 183.018634\nFeature 133: 3.591987\nFeature 134: 1.210970\nFeature 135: 60.065841\nFeature 136: 7.146387\nFeature 137: 33.886037\nFeature 138: 10.270396\nFeature 139: 45.368885\nFeature 140: 29.992944\nFeature 141: 89.254724\nFeature 142: 626.240588\nFeature 143: 47.535783\nFeature 144: 118.671478\nFeature 145: 13.021354\nFeature 146: 26.938565\nFeature 147: 33.722392\nFeature 148: 52.132237\nFeature 149: 39.922285\nFeature 150: 80.930812\nFeature 151: 6.373718\nFeature 152: 22.017334\nFeature 153: 0.227398\nFeature 154: 4.002258\nFeature 155: 576.712257\nFeature 156: 3.750640\nFeature 157: 11.721071\nFeature 158: 14.175238\nFeature 159: 70.516583\nFeature 160: 7.369698\nFeature 161: 11.480186\nFeature 162: 1.114647\nFeature 163: 2.550380\nFeature 164: 26.670491\nFeature 165: 20.636260\nFeature 166: 37.071106\nFeature 167: 172.243972\nFeature 168: 64.739393\nFeature 169: 4.564790\nFeature 170: 0.026134\nFeature 171: 19.429426\nFeature 172: 49.800014\nFeature 173: 294.896373\nFeature 174: 62.577170\nFeature 175: 99.916392\nFeature 176: 151.469896\nFeature 177: 255.291273\nFeature 178: 207.887815\nFeature 179: 184.666345\nFeature 180: 44.043993\nFeature 181: 104.036074\nFeature 182: 162.600858\nFeature 183: 30.661046\nFeature 184: 36.050919\nFeature 185: 338.180346\nFeature 186: 188.891340\nFeature 187: 5.488668\nFeature 188: 240.377345\nFeature 189: 186.366011\nFeature 190: 107.318604\nFeature 191: 11.677780\nFeature 192: 211.289981\nFeature 193: 0.671526\nFeature 194: 415.589943\nFeature 195: 112.141821\nFeature 196: 141.095515\nFeature 197: 45.340343\nFeature 198: 14.212042\nFeature 199: 15.953817\nFeature 200: 15.040611\nFeature 201: 0.017976\nFeature 202: 12.581683\nFeature 203: 37.868289\nFeature 204: 9.889538\nFeature 205: 2.526633\nFeature 206: 0.597608\nFeature 207: 0.004052\nFeature 208: 35.528950\nFeature 209: 348.035327\nFeature 210: 286.414517\nFeature 211: 0.458372\nFeature 212: 520.111508\nFeature 213: 4.229028\nFeature 214: 38.341136\nFeature 215: 0.543342\nFeature 216: 82.038979\nFeature 217: 517.805492\nFeature 218: 47.247573\nFeature 219: 14.286219\nFeature 220: 232.950737\nFeature 221: 91.779180\nFeature 222: 96.371057\nFeature 223: 10.472182\nFeature 224: 22.288335\nFeature 225: 198.007133\nFeature 226: 59.098483\nFeature 227: 1.245808\nFeature 228: 7.896353\nFeature 229: 252.988570\nFeature 230: 199.722218\nFeature 231: 4.738458\nFeature 232: 9.791030\nFeature 233: 37.943406\nFeature 234: 2.800299\nFeature 235: 11.550387\nFeature 236: 56.137841\nFeature 237: 68.201239\nFeature 238: 200.264653\nFeature 239: 14.980570\nFeature 240: 7.096220\nFeature 241: 33.334862\nFeature 242: 23.593094\nFeature 243: 20.826454\nFeature 244: 47.334562\nFeature 245: 32.882453\nFeature 246: 28.009640\nFeature 247: 10.399754\nFeature 248: 13.208654\nFeature 249: 29.754510\nFeature 250: 235.646678\nFeature 251: 0.671625\nFeature 252: 23.274966\nFeature 253: 113.555512\nFeature 254: 16.856457\nFeature 255: 2.559638\nFeature 256: 101.320165\nFeature 257: 3.286074\nFeature 258: 60.927044\nFeature 259: 8.849876\nFeature 260: 2.113274\nFeature 261: 110.444227\nFeature 262: 108.994271\nFeature 263: 321.841502\nFeature 264: 51.306521\nFeature 265: 46.172557\nFeature 266: 232.461265\nFeature 267: 34.774940\nFeature 268: 53.644930\nFeature 269: 13.441960\nFeature 270: 158.944956\nFeature 271: 1.684384\nFeature 272: 8.747672\nFeature 273: 60.727548\nFeature 274: 40.789854\nFeature 275: 22.501392\nFeature 276: 85.371996\nFeature 277: 13.470258\nFeature 278: 514.599361\n"
          ]
        },
        {
          "output_type": "display_data",
          "data": {
            "text/plain": "<Figure size 432x288 with 1 Axes>",
            "image/svg+xml": "<?xml version=\"1.0\" encoding=\"utf-8\" standalone=\"no\"?>\r\n<!DOCTYPE svg PUBLIC \"-//W3C//DTD SVG 1.1//EN\"\r\n  \"http://www.w3.org/Graphics/SVG/1.1/DTD/svg11.dtd\">\r\n<!-- Created with matplotlib (https://matplotlib.org/) -->\r\n<svg height=\"248.518125pt\" version=\"1.1\" viewBox=\"0 0 388.0125 248.518125\" width=\"388.0125pt\" xmlns=\"http://www.w3.org/2000/svg\" xmlns:xlink=\"http://www.w3.org/1999/xlink\">\r\n <metadata>\r\n  <rdf:RDF xmlns:cc=\"http://creativecommons.org/ns#\" xmlns:dc=\"http://purl.org/dc/elements/1.1/\" xmlns:rdf=\"http://www.w3.org/1999/02/22-rdf-syntax-ns#\">\r\n   <cc:Work>\r\n    <dc:type rdf:resource=\"http://purl.org/dc/dcmitype/StillImage\"/>\r\n    <dc:date>2020-11-23T18:54:16.550620</dc:date>\r\n    <dc:format>image/svg+xml</dc:format>\r\n    <dc:creator>\r\n     <cc:Agent>\r\n      <dc:title>Matplotlib v3.3.0, https://matplotlib.org/</dc:title>\r\n     </cc:Agent>\r\n    </dc:creator>\r\n   </cc:Work>\r\n  </rdf:RDF>\r\n </metadata>\r\n <defs>\r\n  <style type=\"text/css\">*{stroke-linecap:butt;stroke-linejoin:round;}</style>\r\n </defs>\r\n <g id=\"figure_1\">\r\n  <g id=\"patch_1\">\r\n   <path d=\"M 0 248.518125 \r\nL 388.0125 248.518125 \r\nL 388.0125 0 \r\nL 0 0 \r\nz\r\n\" style=\"fill:none;\"/>\r\n  </g>\r\n  <g id=\"axes_1\">\r\n   <g id=\"patch_2\">\r\n    <path d=\"M 46.0125 224.64 \r\nL 380.8125 224.64 \r\nL 380.8125 7.2 \r\nL 46.0125 7.2 \r\nz\r\n\" style=\"fill:#ffffff;\"/>\r\n   </g>\r\n   <g id=\"patch_3\">\r\n    <path clip-path=\"url(#p43e291fcf1)\" d=\"M 61.230682 224.64 \r\nL 62.104035 224.64 \r\nL 62.104035 221.818366 \r\nL 61.230682 221.818366 \r\nz\r\n\" style=\"fill:#1f77b4;\"/>\r\n   </g>\r\n   <g id=\"patch_4\">\r\n    <path clip-path=\"url(#p43e291fcf1)\" d=\"M 62.322373 224.64 \r\nL 63.195727 224.64 \r\nL 63.195727 224.337331 \r\nL 62.322373 224.337331 \r\nz\r\n\" style=\"fill:#1f77b4;\"/>\r\n   </g>\r\n   <g id=\"patch_5\">\r\n    <path clip-path=\"url(#p43e291fcf1)\" d=\"M 63.414065 224.64 \r\nL 64.287418 224.64 \r\nL 64.287418 178.307528 \r\nL 63.414065 178.307528 \r\nz\r\n\" style=\"fill:#1f77b4;\"/>\r\n   </g>\r\n   <g id=\"patch_6\">\r\n    <path clip-path=\"url(#p43e291fcf1)\" d=\"M 64.505757 224.64 \r\nL 65.37911 224.64 \r\nL 65.37911 193.915233 \r\nL 64.505757 193.915233 \r\nz\r\n\" style=\"fill:#1f77b4;\"/>\r\n   </g>\r\n   <g id=\"patch_7\">\r\n    <path clip-path=\"url(#p43e291fcf1)\" d=\"M 65.597448 224.64 \r\nL 66.470802 224.64 \r\nL 66.470802 178.307528 \r\nL 65.597448 178.307528 \r\nz\r\n\" style=\"fill:#1f77b4;\"/>\r\n   </g>\r\n   <g id=\"patch_8\">\r\n    <path clip-path=\"url(#p43e291fcf1)\" d=\"M 66.68914 224.64 \r\nL 67.562493 224.64 \r\nL 67.562493 183.664555 \r\nL 66.68914 183.664555 \r\nz\r\n\" style=\"fill:#1f77b4;\"/>\r\n   </g>\r\n   <g id=\"patch_9\">\r\n    <path clip-path=\"url(#p43e291fcf1)\" d=\"M 67.780832 224.64 \r\nL 68.654185 224.64 \r\nL 68.654185 60.823922 \r\nL 67.780832 60.823922 \r\nz\r\n\" style=\"fill:#1f77b4;\"/>\r\n   </g>\r\n   <g id=\"patch_10\">\r\n    <path clip-path=\"url(#p43e291fcf1)\" d=\"M 68.872523 224.64 \r\nL 69.745877 224.64 \r\nL 69.745877 17.554286 \r\nL 68.872523 17.554286 \r\nz\r\n\" style=\"fill:#1f77b4;\"/>\r\n   </g>\r\n   <g id=\"patch_11\">\r\n    <path clip-path=\"url(#p43e291fcf1)\" d=\"M 69.964215 224.64 \r\nL 70.837568 224.64 \r\nL 70.837568 214.084261 \r\nL 69.964215 214.084261 \r\nz\r\n\" style=\"fill:#1f77b4;\"/>\r\n   </g>\r\n   <g id=\"patch_12\">\r\n    <path clip-path=\"url(#p43e291fcf1)\" d=\"M 71.055907 224.64 \r\nL 71.92926 224.64 \r\nL 71.92926 224.634022 \r\nL 71.055907 224.634022 \r\nz\r\n\" style=\"fill:#1f77b4;\"/>\r\n   </g>\r\n   <g id=\"patch_13\">\r\n    <path clip-path=\"url(#p43e291fcf1)\" d=\"M 72.147598 224.64 \r\nL 73.020952 224.64 \r\nL 73.020952 224.406199 \r\nL 72.147598 224.406199 \r\nz\r\n\" style=\"fill:#1f77b4;\"/>\r\n   </g>\r\n   <g id=\"patch_14\">\r\n    <path clip-path=\"url(#p43e291fcf1)\" d=\"M 73.23929 224.64 \r\nL 74.112643 224.64 \r\nL 74.112643 224.023421 \r\nL 73.23929 224.023421 \r\nz\r\n\" style=\"fill:#1f77b4;\"/>\r\n   </g>\r\n   <g id=\"patch_15\">\r\n    <path clip-path=\"url(#p43e291fcf1)\" d=\"M 74.330982 224.64 \r\nL 75.204335 224.64 \r\nL 75.204335 222.455868 \r\nL 74.330982 222.455868 \r\nz\r\n\" style=\"fill:#1f77b4;\"/>\r\n   </g>\r\n   <g id=\"patch_16\">\r\n    <path clip-path=\"url(#p43e291fcf1)\" d=\"M 75.422673 224.64 \r\nL 76.296027 224.64 \r\nL 76.296027 224.548109 \r\nL 75.422673 224.548109 \r\nz\r\n\" style=\"fill:#1f77b4;\"/>\r\n   </g>\r\n   <g id=\"patch_17\">\r\n    <path clip-path=\"url(#p43e291fcf1)\" d=\"M 76.514365 224.64 \r\nL 77.387718 224.64 \r\nL 77.387718 224.639624 \r\nL 76.514365 224.639624 \r\nz\r\n\" style=\"fill:#1f77b4;\"/>\r\n   </g>\r\n   <g id=\"patch_18\">\r\n    <path clip-path=\"url(#p43e291fcf1)\" d=\"M 77.606057 224.64 \r\nL 78.47941 224.64 \r\nL 78.47941 222.799043 \r\nL 77.606057 222.799043 \r\nz\r\n\" style=\"fill:#1f77b4;\"/>\r\n   </g>\r\n   <g id=\"patch_19\">\r\n    <path clip-path=\"url(#p43e291fcf1)\" d=\"M 78.697748 224.64 \r\nL 79.571102 224.64 \r\nL 79.571102 224.636568 \r\nL 78.697748 224.636568 \r\nz\r\n\" style=\"fill:#1f77b4;\"/>\r\n   </g>\r\n   <g id=\"patch_20\">\r\n    <path clip-path=\"url(#p43e291fcf1)\" d=\"M 79.78944 224.64 \r\nL 80.662793 224.64 \r\nL 80.662793 224.422027 \r\nL 79.78944 224.422027 \r\nz\r\n\" style=\"fill:#1f77b4;\"/>\r\n   </g>\r\n   <g id=\"patch_21\">\r\n    <path clip-path=\"url(#p43e291fcf1)\" d=\"M 80.881132 224.64 \r\nL 81.754485 224.64 \r\nL 81.754485 222.779697 \r\nL 80.881132 222.779697 \r\nz\r\n\" style=\"fill:#1f77b4;\"/>\r\n   </g>\r\n   <g id=\"patch_22\">\r\n    <path clip-path=\"url(#p43e291fcf1)\" d=\"M 81.972823 224.64 \r\nL 82.846177 224.64 \r\nL 82.846177 224.05506 \r\nL 81.972823 224.05506 \r\nz\r\n\" style=\"fill:#1f77b4;\"/>\r\n   </g>\r\n   <g id=\"patch_23\">\r\n    <path clip-path=\"url(#p43e291fcf1)\" d=\"M 83.064515 224.64 \r\nL 83.937868 224.64 \r\nL 83.937868 223.817832 \r\nL 83.064515 223.817832 \r\nz\r\n\" style=\"fill:#1f77b4;\"/>\r\n   </g>\r\n   <g id=\"patch_24\">\r\n    <path clip-path=\"url(#p43e291fcf1)\" d=\"M 84.156207 224.64 \r\nL 85.02956 224.64 \r\nL 85.02956 224.551746 \r\nL 84.156207 224.551746 \r\nz\r\n\" style=\"fill:#1f77b4;\"/>\r\n   </g>\r\n   <g id=\"patch_25\">\r\n    <path clip-path=\"url(#p43e291fcf1)\" d=\"M 85.247898 224.64 \r\nL 86.121252 224.64 \r\nL 86.121252 224.634989 \r\nL 85.247898 224.634989 \r\nz\r\n\" style=\"fill:#1f77b4;\"/>\r\n   </g>\r\n   <g id=\"patch_26\">\r\n    <path clip-path=\"url(#p43e291fcf1)\" d=\"M 86.33959 224.64 \r\nL 87.212943 224.64 \r\nL 87.212943 224.630182 \r\nL 86.33959 224.630182 \r\nz\r\n\" style=\"fill:#1f77b4;\"/>\r\n   </g>\r\n   <g id=\"patch_27\">\r\n    <path clip-path=\"url(#p43e291fcf1)\" d=\"M 87.431282 224.64 \r\nL 88.304635 224.64 \r\nL 88.304635 224.638878 \r\nL 87.431282 224.638878 \r\nz\r\n\" style=\"fill:#1f77b4;\"/>\r\n   </g>\r\n   <g id=\"patch_28\">\r\n    <path clip-path=\"url(#p43e291fcf1)\" d=\"M 88.522973 224.64 \r\nL 89.396327 224.64 \r\nL 89.396327 224.55921 \r\nL 88.522973 224.55921 \r\nz\r\n\" style=\"fill:#1f77b4;\"/>\r\n   </g>\r\n   <g id=\"patch_29\">\r\n    <path clip-path=\"url(#p43e291fcf1)\" d=\"M 89.614665 224.64 \r\nL 90.488018 224.64 \r\nL 90.488018 224.176008 \r\nL 89.614665 224.176008 \r\nz\r\n\" style=\"fill:#1f77b4;\"/>\r\n   </g>\r\n   <g id=\"patch_30\">\r\n    <path clip-path=\"url(#p43e291fcf1)\" d=\"M 90.706357 224.64 \r\nL 91.57971 224.64 \r\nL 91.57971 224.566584 \r\nL 90.706357 224.566584 \r\nz\r\n\" style=\"fill:#1f77b4;\"/>\r\n   </g>\r\n   <g id=\"patch_31\">\r\n    <path clip-path=\"url(#p43e291fcf1)\" d=\"M 91.798048 224.64 \r\nL 92.671402 224.64 \r\nL 92.671402 224.639636 \r\nL 91.798048 224.639636 \r\nz\r\n\" style=\"fill:#1f77b4;\"/>\r\n   </g>\r\n   <g id=\"patch_32\">\r\n    <path clip-path=\"url(#p43e291fcf1)\" d=\"M 92.88974 224.64 \r\nL 93.763093 224.64 \r\nL 93.763093 224.297659 \r\nL 92.88974 224.297659 \r\nz\r\n\" style=\"fill:#1f77b4;\"/>\r\n   </g>\r\n   <g id=\"patch_33\">\r\n    <path clip-path=\"url(#p43e291fcf1)\" d=\"M 93.981432 224.64 \r\nL 94.854785 224.64 \r\nL 94.854785 224.306978 \r\nL 93.981432 224.306978 \r\nz\r\n\" style=\"fill:#1f77b4;\"/>\r\n   </g>\r\n   <g id=\"patch_34\">\r\n    <path clip-path=\"url(#p43e291fcf1)\" d=\"M 95.073123 224.64 \r\nL 95.946477 224.64 \r\nL 95.946477 224.117909 \r\nL 95.073123 224.117909 \r\nz\r\n\" style=\"fill:#1f77b4;\"/>\r\n   </g>\r\n   <g id=\"patch_35\">\r\n    <path clip-path=\"url(#p43e291fcf1)\" d=\"M 96.164815 224.64 \r\nL 97.038168 224.64 \r\nL 97.038168 222.825387 \r\nL 96.164815 222.825387 \r\nz\r\n\" style=\"fill:#1f77b4;\"/>\r\n   </g>\r\n   <g id=\"patch_36\">\r\n    <path clip-path=\"url(#p43e291fcf1)\" d=\"M 97.256507 224.64 \r\nL 98.12986 224.64 \r\nL 98.12986 224.153903 \r\nL 97.256507 224.153903 \r\nz\r\n\" style=\"fill:#1f77b4;\"/>\r\n   </g>\r\n   <g id=\"patch_37\">\r\n    <path clip-path=\"url(#p43e291fcf1)\" d=\"M 98.348198 224.64 \r\nL 99.221552 224.64 \r\nL 99.221552 224.462365 \r\nL 98.348198 224.462365 \r\nz\r\n\" style=\"fill:#1f77b4;\"/>\r\n   </g>\r\n   <g id=\"patch_38\">\r\n    <path clip-path=\"url(#p43e291fcf1)\" d=\"M 99.43989 224.64 \r\nL 100.313243 224.64 \r\nL 100.313243 224.561969 \r\nL 99.43989 224.561969 \r\nz\r\n\" style=\"fill:#1f77b4;\"/>\r\n   </g>\r\n   <g id=\"patch_39\">\r\n    <path clip-path=\"url(#p43e291fcf1)\" d=\"M 100.531582 224.64 \r\nL 101.404935 224.64 \r\nL 101.404935 224.488145 \r\nL 100.531582 224.488145 \r\nz\r\n\" style=\"fill:#1f77b4;\"/>\r\n   </g>\r\n   <g id=\"patch_40\">\r\n    <path clip-path=\"url(#p43e291fcf1)\" d=\"M 101.623273 224.64 \r\nL 102.496627 224.64 \r\nL 102.496627 224.635952 \r\nL 101.623273 224.635952 \r\nz\r\n\" style=\"fill:#1f77b4;\"/>\r\n   </g>\r\n   <g id=\"patch_41\">\r\n    <path clip-path=\"url(#p43e291fcf1)\" d=\"M 102.714965 224.64 \r\nL 103.588318 224.64 \r\nL 103.588318 224.601698 \r\nL 102.714965 224.601698 \r\nz\r\n\" style=\"fill:#1f77b4;\"/>\r\n   </g>\r\n   <g id=\"patch_42\">\r\n    <path clip-path=\"url(#p43e291fcf1)\" d=\"M 103.806657 224.64 \r\nL 104.68001 224.64 \r\nL 104.68001 223.503837 \r\nL 103.806657 223.503837 \r\nz\r\n\" style=\"fill:#1f77b4;\"/>\r\n   </g>\r\n   <g id=\"patch_43\">\r\n    <path clip-path=\"url(#p43e291fcf1)\" d=\"M 104.898348 224.64 \r\nL 105.771702 224.64 \r\nL 105.771702 223.909809 \r\nL 104.898348 223.909809 \r\nz\r\n\" style=\"fill:#1f77b4;\"/>\r\n   </g>\r\n   <g id=\"patch_44\">\r\n    <path clip-path=\"url(#p43e291fcf1)\" d=\"M 105.99004 224.64 \r\nL 106.863393 224.64 \r\nL 106.863393 224.532181 \r\nL 105.99004 224.532181 \r\nz\r\n\" style=\"fill:#1f77b4;\"/>\r\n   </g>\r\n   <g id=\"patch_45\">\r\n    <path clip-path=\"url(#p43e291fcf1)\" d=\"M 107.081732 224.64 \r\nL 107.955085 224.64 \r\nL 107.955085 224.166653 \r\nL 107.081732 224.166653 \r\nz\r\n\" style=\"fill:#1f77b4;\"/>\r\n   </g>\r\n   <g id=\"patch_46\">\r\n    <path clip-path=\"url(#p43e291fcf1)\" d=\"M 108.173423 224.64 \r\nL 109.046777 224.64 \r\nL 109.046777 224.459387 \r\nL 108.173423 224.459387 \r\nz\r\n\" style=\"fill:#1f77b4;\"/>\r\n   </g>\r\n   <g id=\"patch_47\">\r\n    <path clip-path=\"url(#p43e291fcf1)\" d=\"M 109.265115 224.64 \r\nL 110.138468 224.64 \r\nL 110.138468 224.474194 \r\nL 109.265115 224.474194 \r\nz\r\n\" style=\"fill:#1f77b4;\"/>\r\n   </g>\r\n   <g id=\"patch_48\">\r\n    <path clip-path=\"url(#p43e291fcf1)\" d=\"M 110.356807 224.64 \r\nL 111.23016 224.64 \r\nL 111.23016 224.595967 \r\nL 110.356807 224.595967 \r\nz\r\n\" style=\"fill:#1f77b4;\"/>\r\n   </g>\r\n   <g id=\"patch_49\">\r\n    <path clip-path=\"url(#p43e291fcf1)\" d=\"M 111.448498 224.64 \r\nL 112.321852 224.64 \r\nL 112.321852 223.602027 \r\nL 111.448498 223.602027 \r\nz\r\n\" style=\"fill:#1f77b4;\"/>\r\n   </g>\r\n   <g id=\"patch_50\">\r\n    <path clip-path=\"url(#p43e291fcf1)\" d=\"M 112.54019 224.64 \r\nL 113.413543 224.64 \r\nL 113.413543 224.073017 \r\nL 112.54019 224.073017 \r\nz\r\n\" style=\"fill:#1f77b4;\"/>\r\n   </g>\r\n   <g id=\"patch_51\">\r\n    <path clip-path=\"url(#p43e291fcf1)\" d=\"M 113.631882 224.64 \r\nL 114.505235 224.64 \r\nL 114.505235 224.337002 \r\nL 113.631882 224.337002 \r\nz\r\n\" style=\"fill:#1f77b4;\"/>\r\n   </g>\r\n   <g id=\"patch_52\">\r\n    <path clip-path=\"url(#p43e291fcf1)\" d=\"M 114.723573 224.64 \r\nL 115.596927 224.64 \r\nL 115.596927 222.529604 \r\nL 114.723573 222.529604 \r\nz\r\n\" style=\"fill:#1f77b4;\"/>\r\n   </g>\r\n   <g id=\"patch_53\">\r\n    <path clip-path=\"url(#p43e291fcf1)\" d=\"M 115.815265 224.64 \r\nL 116.688618 224.64 \r\nL 116.688618 224.635768 \r\nL 115.815265 224.635768 \r\nz\r\n\" style=\"fill:#1f77b4;\"/>\r\n   </g>\r\n   <g id=\"patch_54\">\r\n    <path clip-path=\"url(#p43e291fcf1)\" d=\"M 116.906957 224.64 \r\nL 117.78031 224.64 \r\nL 117.78031 224.639445 \r\nL 116.906957 224.639445 \r\nz\r\n\" style=\"fill:#1f77b4;\"/>\r\n   </g>\r\n   <g id=\"patch_55\">\r\n    <path clip-path=\"url(#p43e291fcf1)\" d=\"M 117.998648 224.64 \r\nL 118.872002 224.64 \r\nL 118.872002 223.687337 \r\nL 117.998648 223.687337 \r\nz\r\n\" style=\"fill:#1f77b4;\"/>\r\n   </g>\r\n   <g id=\"patch_56\">\r\n    <path clip-path=\"url(#p43e291fcf1)\" d=\"M 119.09034 224.64 \r\nL 119.963693 224.64 \r\nL 119.963693 224.318997 \r\nL 119.09034 224.318997 \r\nz\r\n\" style=\"fill:#1f77b4;\"/>\r\n   </g>\r\n   <g id=\"patch_57\">\r\n    <path clip-path=\"url(#p43e291fcf1)\" d=\"M 120.182032 224.64 \r\nL 121.055385 224.64 \r\nL 121.055385 224.623988 \r\nL 120.182032 224.623988 \r\nz\r\n\" style=\"fill:#1f77b4;\"/>\r\n   </g>\r\n   <g id=\"patch_58\">\r\n    <path clip-path=\"url(#p43e291fcf1)\" d=\"M 121.273723 224.64 \r\nL 122.147077 224.64 \r\nL 122.147077 223.966707 \r\nL 121.273723 223.966707 \r\nz\r\n\" style=\"fill:#1f77b4;\"/>\r\n   </g>\r\n   <g id=\"patch_59\">\r\n    <path clip-path=\"url(#p43e291fcf1)\" d=\"M 122.365415 224.64 \r\nL 123.238768 224.64 \r\nL 123.238768 224.542557 \r\nL 122.365415 224.542557 \r\nz\r\n\" style=\"fill:#1f77b4;\"/>\r\n   </g>\r\n   <g id=\"patch_60\">\r\n    <path clip-path=\"url(#p43e291fcf1)\" d=\"M 123.457107 224.64 \r\nL 124.33046 224.64 \r\nL 124.33046 224.272121 \r\nL 123.457107 224.272121 \r\nz\r\n\" style=\"fill:#1f77b4;\"/>\r\n   </g>\r\n   <g id=\"patch_61\">\r\n    <path clip-path=\"url(#p43e291fcf1)\" d=\"M 124.548798 224.64 \r\nL 125.422152 224.64 \r\nL 125.422152 223.225245 \r\nL 124.548798 223.225245 \r\nz\r\n\" style=\"fill:#1f77b4;\"/>\r\n   </g>\r\n   <g id=\"patch_62\">\r\n    <path clip-path=\"url(#p43e291fcf1)\" d=\"M 125.64049 224.64 \r\nL 126.513843 224.64 \r\nL 126.513843 224.104653 \r\nL 125.64049 224.104653 \r\nz\r\n\" style=\"fill:#1f77b4;\"/>\r\n   </g>\r\n   <g id=\"patch_63\">\r\n    <path clip-path=\"url(#p43e291fcf1)\" d=\"M 126.732182 224.64 \r\nL 127.605535 224.64 \r\nL 127.605535 224.616923 \r\nL 126.732182 224.616923 \r\nz\r\n\" style=\"fill:#1f77b4;\"/>\r\n   </g>\r\n   <g id=\"patch_64\">\r\n    <path clip-path=\"url(#p43e291fcf1)\" d=\"M 127.823873 224.64 \r\nL 128.697227 224.64 \r\nL 128.697227 223.278412 \r\nL 127.823873 223.278412 \r\nz\r\n\" style=\"fill:#1f77b4;\"/>\r\n   </g>\r\n   <g id=\"patch_65\">\r\n    <path clip-path=\"url(#p43e291fcf1)\" d=\"M 128.915565 224.64 \r\nL 129.788918 224.64 \r\nL 129.788918 224.366234 \r\nL 128.915565 224.366234 \r\nz\r\n\" style=\"fill:#1f77b4;\"/>\r\n   </g>\r\n   <g id=\"patch_66\">\r\n    <path clip-path=\"url(#p43e291fcf1)\" d=\"M 130.007257 224.64 \r\nL 130.88061 224.64 \r\nL 130.88061 224.532778 \r\nL 130.007257 224.532778 \r\nz\r\n\" style=\"fill:#1f77b4;\"/>\r\n   </g>\r\n   <g id=\"patch_67\">\r\n    <path clip-path=\"url(#p43e291fcf1)\" d=\"M 131.098948 224.64 \r\nL 131.972302 224.64 \r\nL 131.972302 220.256663 \r\nL 131.098948 220.256663 \r\nz\r\n\" style=\"fill:#1f77b4;\"/>\r\n   </g>\r\n   <g id=\"patch_68\">\r\n    <path clip-path=\"url(#p43e291fcf1)\" d=\"M 132.19064 224.64 \r\nL 133.063993 224.64 \r\nL 133.063993 223.835502 \r\nL 132.19064 223.835502 \r\nz\r\n\" style=\"fill:#1f77b4;\"/>\r\n   </g>\r\n   <g id=\"patch_69\">\r\n    <path clip-path=\"url(#p43e291fcf1)\" d=\"M 133.282332 224.64 \r\nL 134.155685 224.64 \r\nL 134.155685 224.616685 \r\nL 133.282332 224.616685 \r\nz\r\n\" style=\"fill:#1f77b4;\"/>\r\n   </g>\r\n   <g id=\"patch_70\">\r\n    <path clip-path=\"url(#p43e291fcf1)\" d=\"M 134.374023 224.64 \r\nL 135.247377 224.64 \r\nL 135.247377 224.370644 \r\nL 134.374023 224.370644 \r\nz\r\n\" style=\"fill:#1f77b4;\"/>\r\n   </g>\r\n   <g id=\"patch_71\">\r\n    <path clip-path=\"url(#p43e291fcf1)\" d=\"M 135.465715 224.64 \r\nL 136.339068 224.64 \r\nL 136.339068 222.396821 \r\nL 135.465715 222.396821 \r\nz\r\n\" style=\"fill:#1f77b4;\"/>\r\n   </g>\r\n   <g id=\"patch_72\">\r\n    <path clip-path=\"url(#p43e291fcf1)\" d=\"M 136.557407 224.64 \r\nL 137.43076 224.64 \r\nL 137.43076 223.462105 \r\nL 136.557407 223.462105 \r\nz\r\n\" style=\"fill:#1f77b4;\"/>\r\n   </g>\r\n   <g id=\"patch_73\">\r\n    <path clip-path=\"url(#p43e291fcf1)\" d=\"M 137.649098 224.64 \r\nL 138.522452 224.64 \r\nL 138.522452 223.377312 \r\nL 137.649098 223.377312 \r\nz\r\n\" style=\"fill:#1f77b4;\"/>\r\n   </g>\r\n   <g id=\"patch_74\">\r\n    <path clip-path=\"url(#p43e291fcf1)\" d=\"M 138.74079 224.64 \r\nL 139.614143 224.64 \r\nL 139.614143 224.597712 \r\nL 138.74079 224.597712 \r\nz\r\n\" style=\"fill:#1f77b4;\"/>\r\n   </g>\r\n   <g id=\"patch_75\">\r\n    <path clip-path=\"url(#p43e291fcf1)\" d=\"M 139.832482 224.64 \r\nL 140.705835 224.64 \r\nL 140.705835 224.323144 \r\nL 139.832482 224.323144 \r\nz\r\n\" style=\"fill:#1f77b4;\"/>\r\n   </g>\r\n   <g id=\"patch_76\">\r\n    <path clip-path=\"url(#p43e291fcf1)\" d=\"M 140.924173 224.64 \r\nL 141.797527 224.64 \r\nL 141.797527 223.313031 \r\nL 140.924173 223.313031 \r\nz\r\n\" style=\"fill:#1f77b4;\"/>\r\n   </g>\r\n   <g id=\"patch_77\">\r\n    <path clip-path=\"url(#p43e291fcf1)\" d=\"M 142.015865 224.64 \r\nL 142.889218 224.64 \r\nL 142.889218 223.529628 \r\nL 142.015865 223.529628 \r\nz\r\n\" style=\"fill:#1f77b4;\"/>\r\n   </g>\r\n   <g id=\"patch_78\">\r\n    <path clip-path=\"url(#p43e291fcf1)\" d=\"M 143.107557 224.64 \r\nL 143.98091 224.64 \r\nL 143.98091 222.659539 \r\nL 143.107557 222.659539 \r\nz\r\n\" style=\"fill:#1f77b4;\"/>\r\n   </g>\r\n   <g id=\"patch_79\">\r\n    <path clip-path=\"url(#p43e291fcf1)\" d=\"M 144.199248 224.64 \r\nL 145.072602 224.64 \r\nL 145.072602 224.124858 \r\nL 144.199248 224.124858 \r\nz\r\n\" style=\"fill:#1f77b4;\"/>\r\n   </g>\r\n   <g id=\"patch_80\">\r\n    <path clip-path=\"url(#p43e291fcf1)\" d=\"M 145.29094 224.64 \r\nL 146.164293 224.64 \r\nL 146.164293 224.251558 \r\nL 145.29094 224.251558 \r\nz\r\n\" style=\"fill:#1f77b4;\"/>\r\n   </g>\r\n   <g id=\"patch_81\">\r\n    <path clip-path=\"url(#p43e291fcf1)\" d=\"M 146.382632 224.64 \r\nL 147.255985 224.64 \r\nL 147.255985 224.639882 \r\nL 146.382632 224.639882 \r\nz\r\n\" style=\"fill:#1f77b4;\"/>\r\n   </g>\r\n   <g id=\"patch_82\">\r\n    <path clip-path=\"url(#p43e291fcf1)\" d=\"M 147.474323 224.64 \r\nL 148.347677 224.64 \r\nL 148.347677 224.581253 \r\nL 147.474323 224.581253 \r\nz\r\n\" style=\"fill:#1f77b4;\"/>\r\n   </g>\r\n   <g id=\"patch_83\">\r\n    <path clip-path=\"url(#p43e291fcf1)\" d=\"M 148.566015 224.64 \r\nL 149.439368 224.64 \r\nL 149.439368 224.636977 \r\nL 148.566015 224.636977 \r\nz\r\n\" style=\"fill:#1f77b4;\"/>\r\n   </g>\r\n   <g id=\"patch_84\">\r\n    <path clip-path=\"url(#p43e291fcf1)\" d=\"M 149.657707 224.64 \r\nL 150.53106 224.64 \r\nL 150.53106 221.250595 \r\nL 149.657707 221.250595 \r\nz\r\n\" style=\"fill:#1f77b4;\"/>\r\n   </g>\r\n   <g id=\"patch_85\">\r\n    <path clip-path=\"url(#p43e291fcf1)\" d=\"M 150.749398 224.64 \r\nL 151.622752 224.64 \r\nL 151.622752 220.996666 \r\nL 150.749398 220.996666 \r\nz\r\n\" style=\"fill:#1f77b4;\"/>\r\n   </g>\r\n   <g id=\"patch_86\">\r\n    <path clip-path=\"url(#p43e291fcf1)\" d=\"M 151.84109 224.64 \r\nL 152.714443 224.64 \r\nL 152.714443 224.616147 \r\nL 151.84109 224.616147 \r\nz\r\n\" style=\"fill:#1f77b4;\"/>\r\n   </g>\r\n   <g id=\"patch_87\">\r\n    <path clip-path=\"url(#p43e291fcf1)\" d=\"M 152.932782 224.64 \r\nL 153.806135 224.64 \r\nL 153.806135 224.4647 \r\nL 152.932782 224.4647 \r\nz\r\n\" style=\"fill:#1f77b4;\"/>\r\n   </g>\r\n   <g id=\"patch_88\">\r\n    <path clip-path=\"url(#p43e291fcf1)\" d=\"M 154.024473 224.64 \r\nL 154.897827 224.64 \r\nL 154.897827 224.347745 \r\nL 154.024473 224.347745 \r\nz\r\n\" style=\"fill:#1f77b4;\"/>\r\n   </g>\r\n   <g id=\"patch_89\">\r\n    <path clip-path=\"url(#p43e291fcf1)\" d=\"M 155.116165 224.64 \r\nL 155.989518 224.64 \r\nL 155.989518 224.540196 \r\nL 155.116165 224.540196 \r\nz\r\n\" style=\"fill:#1f77b4;\"/>\r\n   </g>\r\n   <g id=\"patch_90\">\r\n    <path clip-path=\"url(#p43e291fcf1)\" d=\"M 156.207857 224.64 \r\nL 157.08121 224.64 \r\nL 157.08121 224.583177 \r\nL 156.207857 224.583177 \r\nz\r\n\" style=\"fill:#1f77b4;\"/>\r\n   </g>\r\n   <g id=\"patch_91\">\r\n    <path clip-path=\"url(#p43e291fcf1)\" d=\"M 157.299548 224.64 \r\nL 158.172902 224.64 \r\nL 158.172902 224.639995 \r\nL 157.299548 224.639995 \r\nz\r\n\" style=\"fill:#1f77b4;\"/>\r\n   </g>\r\n   <g id=\"patch_92\">\r\n    <path clip-path=\"url(#p43e291fcf1)\" d=\"M 158.39124 224.64 \r\nL 159.264593 224.64 \r\nL 159.264593 224.459558 \r\nL 158.39124 224.459558 \r\nz\r\n\" style=\"fill:#1f77b4;\"/>\r\n   </g>\r\n   <g id=\"patch_93\">\r\n    <path clip-path=\"url(#p43e291fcf1)\" d=\"M 159.482932 224.64 \r\nL 160.356285 224.64 \r\nL 160.356285 224.034575 \r\nL 159.482932 224.034575 \r\nz\r\n\" style=\"fill:#1f77b4;\"/>\r\n   </g>\r\n   <g id=\"patch_94\">\r\n    <path clip-path=\"url(#p43e291fcf1)\" d=\"M 160.574623 224.64 \r\nL 161.447977 224.64 \r\nL 161.447977 224.476385 \r\nL 160.574623 224.476385 \r\nz\r\n\" style=\"fill:#1f77b4;\"/>\r\n   </g>\r\n   <g id=\"patch_95\">\r\n    <path clip-path=\"url(#p43e291fcf1)\" d=\"M 161.666315 224.64 \r\nL 162.539668 224.64 \r\nL 162.539668 224.463011 \r\nL 161.666315 224.463011 \r\nz\r\n\" style=\"fill:#1f77b4;\"/>\r\n   </g>\r\n   <g id=\"patch_96\">\r\n    <path clip-path=\"url(#p43e291fcf1)\" d=\"M 162.758007 224.64 \r\nL 163.63136 224.64 \r\nL 163.63136 223.470977 \r\nL 162.758007 223.470977 \r\nz\r\n\" style=\"fill:#1f77b4;\"/>\r\n   </g>\r\n   <g id=\"patch_97\">\r\n    <path clip-path=\"url(#p43e291fcf1)\" d=\"M 163.849698 224.64 \r\nL 164.723052 224.64 \r\nL 164.723052 224.513472 \r\nL 163.849698 224.513472 \r\nz\r\n\" style=\"fill:#1f77b4;\"/>\r\n   </g>\r\n   <g id=\"patch_98\">\r\n    <path clip-path=\"url(#p43e291fcf1)\" d=\"M 164.94139 224.64 \r\nL 165.814743 224.64 \r\nL 165.814743 224.531134 \r\nL 164.94139 224.531134 \r\nz\r\n\" style=\"fill:#1f77b4;\"/>\r\n   </g>\r\n   <g id=\"patch_99\">\r\n    <path clip-path=\"url(#p43e291fcf1)\" d=\"M 166.033082 224.64 \r\nL 166.906435 224.64 \r\nL 166.906435 223.52866 \r\nL 166.033082 223.52866 \r\nz\r\n\" style=\"fill:#1f77b4;\"/>\r\n   </g>\r\n   <g id=\"patch_100\">\r\n    <path clip-path=\"url(#p43e291fcf1)\" d=\"M 167.124773 224.64 \r\nL 167.998127 224.64 \r\nL 167.998127 224.544322 \r\nL 167.124773 224.544322 \r\nz\r\n\" style=\"fill:#1f77b4;\"/>\r\n   </g>\r\n   <g id=\"patch_101\">\r\n    <path clip-path=\"url(#p43e291fcf1)\" d=\"M 168.216465 224.64 \r\nL 169.089818 224.64 \r\nL 169.089818 224.376998 \r\nL 168.216465 224.376998 \r\nz\r\n\" style=\"fill:#1f77b4;\"/>\r\n   </g>\r\n   <g id=\"patch_102\">\r\n    <path clip-path=\"url(#p43e291fcf1)\" d=\"M 169.308157 224.64 \r\nL 170.18151 224.64 \r\nL 170.18151 223.70637 \r\nL 169.308157 223.70637 \r\nz\r\n\" style=\"fill:#1f77b4;\"/>\r\n   </g>\r\n   <g id=\"patch_103\">\r\n    <path clip-path=\"url(#p43e291fcf1)\" d=\"M 0 0 \r\nz\r\n\" style=\"fill:#1f77b4;\"/>\r\n   </g>\r\n   <g id=\"patch_104\">\r\n    <path clip-path=\"url(#p43e291fcf1)\" d=\"M 171.49154 224.64 \r\nL 172.364893 224.64 \r\nL 172.364893 224.630986 \r\nL 171.49154 224.630986 \r\nz\r\n\" style=\"fill:#1f77b4;\"/>\r\n   </g>\r\n   <g id=\"patch_105\">\r\n    <path clip-path=\"url(#p43e291fcf1)\" d=\"M 172.583232 224.64 \r\nL 173.456585 224.64 \r\nL 173.456585 224.558719 \r\nL 172.583232 224.558719 \r\nz\r\n\" style=\"fill:#1f77b4;\"/>\r\n   </g>\r\n   <g id=\"patch_106\">\r\n    <path clip-path=\"url(#p43e291fcf1)\" d=\"M 173.674923 224.64 \r\nL 174.548277 224.64 \r\nL 174.548277 222.883111 \r\nL 173.674923 222.883111 \r\nz\r\n\" style=\"fill:#1f77b4;\"/>\r\n   </g>\r\n   <g id=\"patch_107\">\r\n    <path clip-path=\"url(#p43e291fcf1)\" d=\"M 174.766615 224.64 \r\nL 175.639968 224.64 \r\nL 175.639968 224.543586 \r\nL 174.766615 224.543586 \r\nz\r\n\" style=\"fill:#1f77b4;\"/>\r\n   </g>\r\n   <g id=\"patch_108\">\r\n    <path clip-path=\"url(#p43e291fcf1)\" d=\"M 175.858307 224.64 \r\nL 176.73166 224.64 \r\nL 176.73166 224.639638 \r\nL 175.858307 224.639638 \r\nz\r\n\" style=\"fill:#1f77b4;\"/>\r\n   </g>\r\n   <g id=\"patch_109\">\r\n    <path clip-path=\"url(#p43e291fcf1)\" d=\"M 176.949998 224.64 \r\nL 177.823352 224.64 \r\nL 177.823352 224.514249 \r\nL 176.949998 224.514249 \r\nz\r\n\" style=\"fill:#1f77b4;\"/>\r\n   </g>\r\n   <g id=\"patch_110\">\r\n    <path clip-path=\"url(#p43e291fcf1)\" d=\"M 178.04169 224.64 \r\nL 178.915043 224.64 \r\nL 178.915043 224.520689 \r\nL 178.04169 224.520689 \r\nz\r\n\" style=\"fill:#1f77b4;\"/>\r\n   </g>\r\n   <g id=\"patch_111\">\r\n    <path clip-path=\"url(#p43e291fcf1)\" d=\"M 179.133382 224.64 \r\nL 180.006735 224.64 \r\nL 180.006735 224.338726 \r\nL 179.133382 224.338726 \r\nz\r\n\" style=\"fill:#1f77b4;\"/>\r\n   </g>\r\n   <g id=\"patch_112\">\r\n    <path clip-path=\"url(#p43e291fcf1)\" d=\"M 180.225073 224.64 \r\nL 181.098427 224.64 \r\nL 181.098427 224.239887 \r\nL 180.225073 224.239887 \r\nz\r\n\" style=\"fill:#1f77b4;\"/>\r\n   </g>\r\n   <g id=\"patch_113\">\r\n    <path clip-path=\"url(#p43e291fcf1)\" d=\"M 181.316765 224.64 \r\nL 182.190118 224.64 \r\nL 182.190118 224.506251 \r\nL 181.316765 224.506251 \r\nz\r\n\" style=\"fill:#1f77b4;\"/>\r\n   </g>\r\n   <g id=\"patch_114\">\r\n    <path clip-path=\"url(#p43e291fcf1)\" d=\"M 182.408457 224.64 \r\nL 183.28181 224.64 \r\nL 183.28181 224.617385 \r\nL 182.408457 224.617385 \r\nz\r\n\" style=\"fill:#1f77b4;\"/>\r\n   </g>\r\n   <g id=\"patch_115\">\r\n    <path clip-path=\"url(#p43e291fcf1)\" d=\"M 183.500148 224.64 \r\nL 184.373502 224.64 \r\nL 184.373502 223.66809 \r\nL 183.500148 223.66809 \r\nz\r\n\" style=\"fill:#1f77b4;\"/>\r\n   </g>\r\n   <g id=\"patch_116\">\r\n    <path clip-path=\"url(#p43e291fcf1)\" d=\"M 184.59184 224.64 \r\nL 185.465193 224.64 \r\nL 185.465193 224.071915 \r\nL 184.59184 224.071915 \r\nz\r\n\" style=\"fill:#1f77b4;\"/>\r\n   </g>\r\n   <g id=\"patch_117\">\r\n    <path clip-path=\"url(#p43e291fcf1)\" d=\"M 185.683532 224.64 \r\nL 186.556885 224.64 \r\nL 186.556885 224.076345 \r\nL 185.683532 224.076345 \r\nz\r\n\" style=\"fill:#1f77b4;\"/>\r\n   </g>\r\n   <g id=\"patch_118\">\r\n    <path clip-path=\"url(#p43e291fcf1)\" d=\"M 186.775223 224.64 \r\nL 187.648577 224.64 \r\nL 187.648577 223.652199 \r\nL 186.775223 223.652199 \r\nz\r\n\" style=\"fill:#1f77b4;\"/>\r\n   </g>\r\n   <g id=\"patch_119\">\r\n    <path clip-path=\"url(#p43e291fcf1)\" d=\"M 187.866915 224.64 \r\nL 188.740268 224.64 \r\nL 188.740268 223.408074 \r\nL 187.866915 223.408074 \r\nz\r\n\" style=\"fill:#1f77b4;\"/>\r\n   </g>\r\n   <g id=\"patch_120\">\r\n    <path clip-path=\"url(#p43e291fcf1)\" d=\"M 188.958607 224.64 \r\nL 189.83196 224.64 \r\nL 189.83196 223.002422 \r\nL 188.958607 223.002422 \r\nz\r\n\" style=\"fill:#1f77b4;\"/>\r\n   </g>\r\n   <g id=\"patch_121\">\r\n    <path clip-path=\"url(#p43e291fcf1)\" d=\"M 190.050298 224.64 \r\nL 190.923652 224.64 \r\nL 190.923652 224.198275 \r\nL 190.050298 224.198275 \r\nz\r\n\" style=\"fill:#1f77b4;\"/>\r\n   </g>\r\n   <g id=\"patch_122\">\r\n    <path clip-path=\"url(#p43e291fcf1)\" d=\"M 191.14199 224.64 \r\nL 192.015343 224.64 \r\nL 192.015343 224.474786 \r\nL 191.14199 224.474786 \r\nz\r\n\" style=\"fill:#1f77b4;\"/>\r\n   </g>\r\n   <g id=\"patch_123\">\r\n    <path clip-path=\"url(#p43e291fcf1)\" d=\"M 192.233682 224.64 \r\nL 193.107035 224.64 \r\nL 193.107035 223.815467 \r\nL 192.233682 223.815467 \r\nz\r\n\" style=\"fill:#1f77b4;\"/>\r\n   </g>\r\n   <g id=\"patch_124\">\r\n    <path clip-path=\"url(#p43e291fcf1)\" d=\"M 193.325373 224.64 \r\nL 194.198727 224.64 \r\nL 194.198727 224.494369 \r\nL 193.325373 224.494369 \r\nz\r\n\" style=\"fill:#1f77b4;\"/>\r\n   </g>\r\n   <g id=\"patch_125\">\r\n    <path clip-path=\"url(#p43e291fcf1)\" d=\"M 194.417065 224.64 \r\nL 195.290418 224.64 \r\nL 195.290418 223.091069 \r\nL 194.417065 223.091069 \r\nz\r\n\" style=\"fill:#1f77b4;\"/>\r\n   </g>\r\n   <g id=\"patch_126\">\r\n    <path clip-path=\"url(#p43e291fcf1)\" d=\"M 195.508757 224.64 \r\nL 196.38211 224.64 \r\nL 196.38211 224.63229 \r\nL 195.508757 224.63229 \r\nz\r\n\" style=\"fill:#1f77b4;\"/>\r\n   </g>\r\n   <g id=\"patch_127\">\r\n    <path clip-path=\"url(#p43e291fcf1)\" d=\"M 196.600448 224.64 \r\nL 197.473802 224.64 \r\nL 197.473802 224.633831 \r\nL 196.600448 224.633831 \r\nz\r\n\" style=\"fill:#1f77b4;\"/>\r\n   </g>\r\n   <g id=\"patch_128\">\r\n    <path clip-path=\"url(#p43e291fcf1)\" d=\"M 197.69214 224.64 \r\nL 198.565493 224.64 \r\nL 198.565493 224.559463 \r\nL 197.69214 224.559463 \r\nz\r\n\" style=\"fill:#1f77b4;\"/>\r\n   </g>\r\n   <g id=\"patch_129\">\r\n    <path clip-path=\"url(#p43e291fcf1)\" d=\"M 198.783832 224.64 \r\nL 199.657185 224.64 \r\nL 199.657185 224.520974 \r\nL 198.783832 224.520974 \r\nz\r\n\" style=\"fill:#1f77b4;\"/>\r\n   </g>\r\n   <g id=\"patch_130\">\r\n    <path clip-path=\"url(#p43e291fcf1)\" d=\"M 199.875523 224.64 \r\nL 200.748877 224.64 \r\nL 200.748877 224.637194 \r\nL 199.875523 224.637194 \r\nz\r\n\" style=\"fill:#1f77b4;\"/>\r\n   </g>\r\n   <g id=\"patch_131\">\r\n    <path clip-path=\"url(#p43e291fcf1)\" d=\"M 200.967215 224.64 \r\nL 201.840568 224.64 \r\nL 201.840568 224.611325 \r\nL 200.967215 224.611325 \r\nz\r\n\" style=\"fill:#1f77b4;\"/>\r\n   </g>\r\n   <g id=\"patch_132\">\r\n    <path clip-path=\"url(#p43e291fcf1)\" d=\"M 202.058907 224.64 \r\nL 202.93226 224.64 \r\nL 202.93226 224.570301 \r\nL 202.058907 224.570301 \r\nz\r\n\" style=\"fill:#1f77b4;\"/>\r\n   </g>\r\n   <g id=\"patch_133\">\r\n    <path clip-path=\"url(#p43e291fcf1)\" d=\"M 203.150598 224.64 \r\nL 204.023952 224.64 \r\nL 204.023952 224.230538 \r\nL 203.150598 224.230538 \r\nz\r\n\" style=\"fill:#1f77b4;\"/>\r\n   </g>\r\n   <g id=\"patch_134\">\r\n    <path clip-path=\"url(#p43e291fcf1)\" d=\"M 204.24229 224.64 \r\nL 205.115643 224.64 \r\nL 205.115643 224.417537 \r\nL 204.24229 224.417537 \r\nz\r\n\" style=\"fill:#1f77b4;\"/>\r\n   </g>\r\n   <g id=\"patch_135\">\r\n    <path clip-path=\"url(#p43e291fcf1)\" d=\"M 205.333982 224.64 \r\nL 206.207335 224.64 \r\nL 206.207335 222.928728 \r\nL 205.333982 222.928728 \r\nz\r\n\" style=\"fill:#1f77b4;\"/>\r\n   </g>\r\n   <g id=\"patch_136\">\r\n    <path clip-path=\"url(#p43e291fcf1)\" d=\"M 206.425673 224.64 \r\nL 207.299027 224.64 \r\nL 207.299027 224.606414 \r\nL 206.425673 224.606414 \r\nz\r\n\" style=\"fill:#1f77b4;\"/>\r\n   </g>\r\n   <g id=\"patch_137\">\r\n    <path clip-path=\"url(#p43e291fcf1)\" d=\"M 207.517365 224.64 \r\nL 208.390718 224.64 \r\nL 208.390718 224.628677 \r\nL 207.517365 224.628677 \r\nz\r\n\" style=\"fill:#1f77b4;\"/>\r\n   </g>\r\n   <g id=\"patch_138\">\r\n    <path clip-path=\"url(#p43e291fcf1)\" d=\"M 208.609057 224.64 \r\nL 209.48241 224.64 \r\nL 209.48241 224.078369 \r\nL 208.609057 224.078369 \r\nz\r\n\" style=\"fill:#1f77b4;\"/>\r\n   </g>\r\n   <g id=\"patch_139\">\r\n    <path clip-path=\"url(#p43e291fcf1)\" d=\"M 209.700748 224.64 \r\nL 210.574102 224.64 \r\nL 210.574102 224.573179 \r\nL 209.700748 224.573179 \r\nz\r\n\" style=\"fill:#1f77b4;\"/>\r\n   </g>\r\n   <g id=\"patch_140\">\r\n    <path clip-path=\"url(#p43e291fcf1)\" d=\"M 210.79244 224.64 \r\nL 211.665793 224.64 \r\nL 211.665793 224.323157 \r\nL 210.79244 224.323157 \r\nz\r\n\" style=\"fill:#1f77b4;\"/>\r\n   </g>\r\n   <g id=\"patch_141\">\r\n    <path clip-path=\"url(#p43e291fcf1)\" d=\"M 211.884132 224.64 \r\nL 212.757485 224.64 \r\nL 212.757485 224.543969 \r\nL 211.884132 224.543969 \r\nz\r\n\" style=\"fill:#1f77b4;\"/>\r\n   </g>\r\n   <g id=\"patch_142\">\r\n    <path clip-path=\"url(#p43e291fcf1)\" d=\"M 212.975823 224.64 \r\nL 213.849177 224.64 \r\nL 213.849177 224.215789 \r\nL 212.975823 224.215789 \r\nz\r\n\" style=\"fill:#1f77b4;\"/>\r\n   </g>\r\n   <g id=\"patch_143\">\r\n    <path clip-path=\"url(#p43e291fcf1)\" d=\"M 214.067515 224.64 \r\nL 214.940868 224.64 \r\nL 214.940868 224.359558 \r\nL 214.067515 224.359558 \r\nz\r\n\" style=\"fill:#1f77b4;\"/>\r\n   </g>\r\n   <g id=\"patch_144\">\r\n    <path clip-path=\"url(#p43e291fcf1)\" d=\"M 215.159207 224.64 \r\nL 216.03256 224.64 \r\nL 216.03256 223.805445 \r\nL 215.159207 223.805445 \r\nz\r\n\" style=\"fill:#1f77b4;\"/>\r\n   </g>\r\n   <g id=\"patch_145\">\r\n    <path clip-path=\"url(#p43e291fcf1)\" d=\"M 216.250898 224.64 \r\nL 217.124252 224.64 \r\nL 217.124252 218.784487 \r\nL 216.250898 218.784487 \r\nz\r\n\" style=\"fill:#1f77b4;\"/>\r\n   </g>\r\n   <g id=\"patch_146\">\r\n    <path clip-path=\"url(#p43e291fcf1)\" d=\"M 217.34259 224.64 \r\nL 218.215943 224.64 \r\nL 218.215943 224.195528 \r\nL 217.34259 224.195528 \r\nz\r\n\" style=\"fill:#1f77b4;\"/>\r\n   </g>\r\n   <g id=\"patch_147\">\r\n    <path clip-path=\"url(#p43e291fcf1)\" d=\"M 218.434282 224.64 \r\nL 219.307635 224.64 \r\nL 219.307635 223.530391 \r\nL 218.434282 223.530391 \r\nz\r\n\" style=\"fill:#1f77b4;\"/>\r\n   </g>\r\n   <g id=\"patch_148\">\r\n    <path clip-path=\"url(#p43e291fcf1)\" d=\"M 219.525973 224.64 \r\nL 220.399327 224.64 \r\nL 220.399327 224.518247 \r\nL 219.525973 224.518247 \r\nz\r\n\" style=\"fill:#1f77b4;\"/>\r\n   </g>\r\n   <g id=\"patch_149\">\r\n    <path clip-path=\"url(#p43e291fcf1)\" d=\"M 220.617665 224.64 \r\nL 221.491018 224.64 \r\nL 221.491018 224.388117 \r\nL 220.617665 224.388117 \r\nz\r\n\" style=\"fill:#1f77b4;\"/>\r\n   </g>\r\n   <g id=\"patch_150\">\r\n    <path clip-path=\"url(#p43e291fcf1)\" d=\"M 221.709357 224.64 \r\nL 222.58271 224.64 \r\nL 222.58271 224.324687 \r\nL 221.709357 224.324687 \r\nz\r\n\" style=\"fill:#1f77b4;\"/>\r\n   </g>\r\n   <g id=\"patch_151\">\r\n    <path clip-path=\"url(#p43e291fcf1)\" d=\"M 222.801048 224.64 \r\nL 223.674402 224.64 \r\nL 223.674402 224.15255 \r\nL 222.801048 224.15255 \r\nz\r\n\" style=\"fill:#1f77b4;\"/>\r\n   </g>\r\n   <g id=\"patch_152\">\r\n    <path clip-path=\"url(#p43e291fcf1)\" d=\"M 223.89274 224.64 \r\nL 224.766093 224.64 \r\nL 224.766093 224.266716 \r\nL 223.89274 224.266716 \r\nz\r\n\" style=\"fill:#1f77b4;\"/>\r\n   </g>\r\n   <g id=\"patch_153\">\r\n    <path clip-path=\"url(#p43e291fcf1)\" d=\"M 224.984432 224.64 \r\nL 225.857785 224.64 \r\nL 225.857785 223.883276 \r\nL 224.984432 223.883276 \r\nz\r\n\" style=\"fill:#1f77b4;\"/>\r\n   </g>\r\n   <g id=\"patch_154\">\r\n    <path clip-path=\"url(#p43e291fcf1)\" d=\"M 226.076123 224.64 \r\nL 226.949477 224.64 \r\nL 226.949477 224.580404 \r\nL 226.076123 224.580404 \r\nz\r\n\" style=\"fill:#1f77b4;\"/>\r\n   </g>\r\n   <g id=\"patch_155\">\r\n    <path clip-path=\"url(#p43e291fcf1)\" d=\"M 227.167815 224.64 \r\nL 228.041168 224.64 \r\nL 228.041168 224.434132 \r\nL 227.167815 224.434132 \r\nz\r\n\" style=\"fill:#1f77b4;\"/>\r\n   </g>\r\n   <g id=\"patch_156\">\r\n    <path clip-path=\"url(#p43e291fcf1)\" d=\"M 228.259507 224.64 \r\nL 229.13286 224.64 \r\nL 229.13286 224.637874 \r\nL 228.259507 224.637874 \r\nz\r\n\" style=\"fill:#1f77b4;\"/>\r\n   </g>\r\n   <g id=\"patch_157\">\r\n    <path clip-path=\"url(#p43e291fcf1)\" d=\"M 229.351198 224.64 \r\nL 230.224552 224.64 \r\nL 230.224552 224.602578 \r\nL 229.351198 224.602578 \r\nz\r\n\" style=\"fill:#1f77b4;\"/>\r\n   </g>\r\n   <g id=\"patch_158\">\r\n    <path clip-path=\"url(#p43e291fcf1)\" d=\"M 230.44289 224.64 \r\nL 231.316243 224.64 \r\nL 231.316243 219.24759 \r\nL 230.44289 219.24759 \r\nz\r\n\" style=\"fill:#1f77b4;\"/>\r\n   </g>\r\n   <g id=\"patch_159\">\r\n    <path clip-path=\"url(#p43e291fcf1)\" d=\"M 231.534582 224.64 \r\nL 232.407935 224.64 \r\nL 232.407935 224.604931 \r\nL 231.534582 224.604931 \r\nz\r\n\" style=\"fill:#1f77b4;\"/>\r\n   </g>\r\n   <g id=\"patch_160\">\r\n    <path clip-path=\"url(#p43e291fcf1)\" d=\"M 232.626273 224.64 \r\nL 233.499627 224.64 \r\nL 233.499627 224.530405 \r\nL 232.626273 224.530405 \r\nz\r\n\" style=\"fill:#1f77b4;\"/>\r\n   </g>\r\n   <g id=\"patch_161\">\r\n    <path clip-path=\"url(#p43e291fcf1)\" d=\"M 233.717965 224.64 \r\nL 234.591318 224.64 \r\nL 234.591318 224.507458 \r\nL 233.717965 224.507458 \r\nz\r\n\" style=\"fill:#1f77b4;\"/>\r\n   </g>\r\n   <g id=\"patch_162\">\r\n    <path clip-path=\"url(#p43e291fcf1)\" d=\"M 234.809657 224.64 \r\nL 235.68301 224.64 \r\nL 235.68301 223.980652 \r\nL 234.809657 223.980652 \r\nz\r\n\" style=\"fill:#1f77b4;\"/>\r\n   </g>\r\n   <g id=\"patch_163\">\r\n    <path clip-path=\"url(#p43e291fcf1)\" d=\"M 235.901348 224.64 \r\nL 236.774702 224.64 \r\nL 236.774702 224.571091 \r\nL 235.901348 224.571091 \r\nz\r\n\" style=\"fill:#1f77b4;\"/>\r\n   </g>\r\n   <g id=\"patch_164\">\r\n    <path clip-path=\"url(#p43e291fcf1)\" d=\"M 236.99304 224.64 \r\nL 237.866393 224.64 \r\nL 237.866393 224.532657 \r\nL 236.99304 224.532657 \r\nz\r\n\" style=\"fill:#1f77b4;\"/>\r\n   </g>\r\n   <g id=\"patch_165\">\r\n    <path clip-path=\"url(#p43e291fcf1)\" d=\"M 238.084732 224.64 \r\nL 238.958085 224.64 \r\nL 238.958085 224.629578 \r\nL 238.084732 224.629578 \r\nz\r\n\" style=\"fill:#1f77b4;\"/>\r\n   </g>\r\n   <g id=\"patch_166\">\r\n    <path clip-path=\"url(#p43e291fcf1)\" d=\"M 239.176423 224.64 \r\nL 240.049777 224.64 \r\nL 240.049777 224.616153 \r\nL 239.176423 224.616153 \r\nz\r\n\" style=\"fill:#1f77b4;\"/>\r\n   </g>\r\n   <g id=\"patch_167\">\r\n    <path clip-path=\"url(#p43e291fcf1)\" d=\"M 240.268115 224.64 \r\nL 241.141468 224.64 \r\nL 241.141468 224.390624 \r\nL 240.268115 224.390624 \r\nz\r\n\" style=\"fill:#1f77b4;\"/>\r\n   </g>\r\n   <g id=\"patch_168\">\r\n    <path clip-path=\"url(#p43e291fcf1)\" d=\"M 241.359807 224.64 \r\nL 242.23316 224.64 \r\nL 242.23316 224.447046 \r\nL 241.359807 224.447046 \r\nz\r\n\" style=\"fill:#1f77b4;\"/>\r\n   </g>\r\n   <g id=\"patch_169\">\r\n    <path clip-path=\"url(#p43e291fcf1)\" d=\"M 242.451498 224.64 \r\nL 243.324852 224.64 \r\nL 243.324852 224.293375 \r\nL 242.451498 224.293375 \r\nz\r\n\" style=\"fill:#1f77b4;\"/>\r\n   </g>\r\n   <g id=\"patch_170\">\r\n    <path clip-path=\"url(#p43e291fcf1)\" d=\"M 243.54319 224.64 \r\nL 244.416543 224.64 \r\nL 244.416543 223.029474 \r\nL 243.54319 223.029474 \r\nz\r\n\" style=\"fill:#1f77b4;\"/>\r\n   </g>\r\n   <g id=\"patch_171\">\r\n    <path clip-path=\"url(#p43e291fcf1)\" d=\"M 244.634882 224.64 \r\nL 245.508235 224.64 \r\nL 245.508235 224.03467 \r\nL 244.634882 224.03467 \r\nz\r\n\" style=\"fill:#1f77b4;\"/>\r\n   </g>\r\n   <g id=\"patch_172\">\r\n    <path clip-path=\"url(#p43e291fcf1)\" d=\"M 245.726573 224.64 \r\nL 246.599927 224.64 \r\nL 246.599927 224.597318 \r\nL 245.726573 224.597318 \r\nz\r\n\" style=\"fill:#1f77b4;\"/>\r\n   </g>\r\n   <g id=\"patch_173\">\r\n    <path clip-path=\"url(#p43e291fcf1)\" d=\"M 246.818265 224.64 \r\nL 247.691618 224.64 \r\nL 247.691618 224.639756 \r\nL 246.818265 224.639756 \r\nz\r\n\" style=\"fill:#1f77b4;\"/>\r\n   </g>\r\n   <g id=\"patch_174\">\r\n    <path clip-path=\"url(#p43e291fcf1)\" d=\"M 247.909957 224.64 \r\nL 248.78331 224.64 \r\nL 248.78331 224.45833 \r\nL 247.909957 224.45833 \r\nz\r\n\" style=\"fill:#1f77b4;\"/>\r\n   </g>\r\n   <g id=\"patch_175\">\r\n    <path clip-path=\"url(#p43e291fcf1)\" d=\"M 249.001648 224.64 \r\nL 249.875002 224.64 \r\nL 249.875002 224.174357 \r\nL 249.001648 224.174357 \r\nz\r\n\" style=\"fill:#1f77b4;\"/>\r\n   </g>\r\n   <g id=\"patch_176\">\r\n    <path clip-path=\"url(#p43e291fcf1)\" d=\"M 250.09334 224.64 \r\nL 250.966693 224.64 \r\nL 250.966693 221.882642 \r\nL 250.09334 221.882642 \r\nz\r\n\" style=\"fill:#1f77b4;\"/>\r\n   </g>\r\n   <g id=\"patch_177\">\r\n    <path clip-path=\"url(#p43e291fcf1)\" d=\"M 251.185032 224.64 \r\nL 252.058385 224.64 \r\nL 252.058385 224.054887 \r\nL 251.185032 224.054887 \r\nz\r\n\" style=\"fill:#1f77b4;\"/>\r\n   </g>\r\n   <g id=\"patch_178\">\r\n    <path clip-path=\"url(#p43e291fcf1)\" d=\"M 252.276723 224.64 \r\nL 253.150077 224.64 \r\nL 253.150077 223.705756 \r\nL 252.276723 223.705756 \r\nz\r\n\" style=\"fill:#1f77b4;\"/>\r\n   </g>\r\n   <g id=\"patch_179\">\r\n    <path clip-path=\"url(#p43e291fcf1)\" d=\"M 253.368415 224.64 \r\nL 254.241768 224.64 \r\nL 254.241768 223.223717 \r\nL 253.368415 223.223717 \r\nz\r\n\" style=\"fill:#1f77b4;\"/>\r\n   </g>\r\n   <g id=\"patch_180\">\r\n    <path clip-path=\"url(#p43e291fcf1)\" d=\"M 254.460107 224.64 \r\nL 255.33346 224.64 \r\nL 255.33346 222.25296 \r\nL 254.460107 222.25296 \r\nz\r\n\" style=\"fill:#1f77b4;\"/>\r\n   </g>\r\n   <g id=\"patch_181\">\r\n    <path clip-path=\"url(#p43e291fcf1)\" d=\"M 255.551798 224.64 \r\nL 256.425152 224.64 \r\nL 256.425152 222.696195 \r\nL 255.551798 222.696195 \r\nz\r\n\" style=\"fill:#1f77b4;\"/>\r\n   </g>\r\n   <g id=\"patch_182\">\r\n    <path clip-path=\"url(#p43e291fcf1)\" d=\"M 256.64349 224.64 \r\nL 257.516843 224.64 \r\nL 257.516843 222.913321 \r\nL 256.64349 222.913321 \r\nz\r\n\" style=\"fill:#1f77b4;\"/>\r\n   </g>\r\n   <g id=\"patch_183\">\r\n    <path clip-path=\"url(#p43e291fcf1)\" d=\"M 257.735182 224.64 \r\nL 258.608535 224.64 \r\nL 258.608535 224.228177 \r\nL 257.735182 224.228177 \r\nz\r\n\" style=\"fill:#1f77b4;\"/>\r\n   </g>\r\n   <g id=\"patch_184\">\r\n    <path clip-path=\"url(#p43e291fcf1)\" d=\"M 258.826873 224.64 \r\nL 259.700227 224.64 \r\nL 259.700227 223.667236 \r\nL 258.826873 223.667236 \r\nz\r\n\" style=\"fill:#1f77b4;\"/>\r\n   </g>\r\n   <g id=\"patch_185\">\r\n    <path clip-path=\"url(#p43e291fcf1)\" d=\"M 259.918565 224.64 \r\nL 260.791918 224.64 \r\nL 260.791918 223.11964 \r\nL 259.918565 223.11964 \r\nz\r\n\" style=\"fill:#1f77b4;\"/>\r\n   </g>\r\n   <g id=\"patch_186\">\r\n    <path clip-path=\"url(#p43e291fcf1)\" d=\"M 261.010257 224.64 \r\nL 261.88361 224.64 \r\nL 261.88361 224.353311 \r\nL 261.010257 224.353311 \r\nz\r\n\" style=\"fill:#1f77b4;\"/>\r\n   </g>\r\n   <g id=\"patch_187\">\r\n    <path clip-path=\"url(#p43e291fcf1)\" d=\"M 262.101948 224.64 \r\nL 262.975302 224.64 \r\nL 262.975302 224.302915 \r\nL 262.101948 224.302915 \r\nz\r\n\" style=\"fill:#1f77b4;\"/>\r\n   </g>\r\n   <g id=\"patch_188\">\r\n    <path clip-path=\"url(#p43e291fcf1)\" d=\"M 263.19364 224.64 \r\nL 264.066993 224.64 \r\nL 264.066993 221.477926 \r\nL 263.19364 221.477926 \r\nz\r\n\" style=\"fill:#1f77b4;\"/>\r\n   </g>\r\n   <g id=\"patch_189\">\r\n    <path clip-path=\"url(#p43e291fcf1)\" d=\"M 264.285332 224.64 \r\nL 265.158685 224.64 \r\nL 265.158685 222.873817 \r\nL 264.285332 222.873817 \r\nz\r\n\" style=\"fill:#1f77b4;\"/>\r\n   </g>\r\n   <g id=\"patch_190\">\r\n    <path clip-path=\"url(#p43e291fcf1)\" d=\"M 265.377023 224.64 \r\nL 266.250377 224.64 \r\nL 266.250377 224.58868 \r\nL 265.377023 224.58868 \r\nz\r\n\" style=\"fill:#1f77b4;\"/>\r\n   </g>\r\n   <g id=\"patch_191\">\r\n    <path clip-path=\"url(#p43e291fcf1)\" d=\"M 266.468715 224.64 \r\nL 267.342068 224.64 \r\nL 267.342068 222.392409 \r\nL 266.468715 222.392409 \r\nz\r\n\" style=\"fill:#1f77b4;\"/>\r\n   </g>\r\n   <g id=\"patch_192\">\r\n    <path clip-path=\"url(#p43e291fcf1)\" d=\"M 267.560407 224.64 \r\nL 268.43376 224.64 \r\nL 268.43376 222.897429 \r\nL 267.560407 222.897429 \r\nz\r\n\" style=\"fill:#1f77b4;\"/>\r\n   </g>\r\n   <g id=\"patch_193\">\r\n    <path clip-path=\"url(#p43e291fcf1)\" d=\"M 268.652098 224.64 \r\nL 269.525452 224.64 \r\nL 269.525452 223.636543 \r\nL 268.652098 223.636543 \r\nz\r\n\" style=\"fill:#1f77b4;\"/>\r\n   </g>\r\n   <g id=\"patch_194\">\r\n    <path clip-path=\"url(#p43e291fcf1)\" d=\"M 269.74379 224.64 \r\nL 270.617143 224.64 \r\nL 270.617143 224.53081 \r\nL 269.74379 224.53081 \r\nz\r\n\" style=\"fill:#1f77b4;\"/>\r\n   </g>\r\n   <g id=\"patch_195\">\r\n    <path clip-path=\"url(#p43e291fcf1)\" d=\"M 270.835482 224.64 \r\nL 271.708835 224.64 \r\nL 271.708835 222.664384 \r\nL 270.835482 222.664384 \r\nz\r\n\" style=\"fill:#1f77b4;\"/>\r\n   </g>\r\n   <g id=\"patch_196\">\r\n    <path clip-path=\"url(#p43e291fcf1)\" d=\"M 271.927173 224.64 \r\nL 272.800527 224.64 \r\nL 272.800527 224.633721 \r\nL 271.927173 224.633721 \r\nz\r\n\" style=\"fill:#1f77b4;\"/>\r\n   </g>\r\n   <g id=\"patch_197\">\r\n    <path clip-path=\"url(#p43e291fcf1)\" d=\"M 273.018865 224.64 \r\nL 273.892218 224.64 \r\nL 273.892218 220.754126 \r\nL 273.018865 220.754126 \r\nz\r\n\" style=\"fill:#1f77b4;\"/>\r\n   </g>\r\n   <g id=\"patch_198\">\r\n    <path clip-path=\"url(#p43e291fcf1)\" d=\"M 274.110557 224.64 \r\nL 274.98391 224.64 \r\nL 274.98391 223.591445 \r\nL 274.110557 223.591445 \r\nz\r\n\" style=\"fill:#1f77b4;\"/>\r\n   </g>\r\n   <g id=\"patch_199\">\r\n    <path clip-path=\"url(#p43e291fcf1)\" d=\"M 275.202248 224.64 \r\nL 276.075602 224.64 \r\nL 276.075602 223.32072 \r\nL 275.202248 223.32072 \r\nz\r\n\" style=\"fill:#1f77b4;\"/>\r\n   </g>\r\n   <g id=\"patch_200\">\r\n    <path clip-path=\"url(#p43e291fcf1)\" d=\"M 276.29394 224.64 \r\nL 277.167293 224.64 \r\nL 277.167293 224.216056 \r\nL 276.29394 224.216056 \r\nz\r\n\" style=\"fill:#1f77b4;\"/>\r\n   </g>\r\n   <g id=\"patch_201\">\r\n    <path clip-path=\"url(#p43e291fcf1)\" d=\"M 277.385632 224.64 \r\nL 278.258985 224.64 \r\nL 278.258985 224.507114 \r\nL 277.385632 224.507114 \r\nz\r\n\" style=\"fill:#1f77b4;\"/>\r\n   </g>\r\n   <g id=\"patch_202\">\r\n    <path clip-path=\"url(#p43e291fcf1)\" d=\"M 278.477323 224.64 \r\nL 279.350677 224.64 \r\nL 279.350677 224.490828 \r\nL 278.477323 224.490828 \r\nz\r\n\" style=\"fill:#1f77b4;\"/>\r\n   </g>\r\n   <g id=\"patch_203\">\r\n    <path clip-path=\"url(#p43e291fcf1)\" d=\"M 279.569015 224.64 \r\nL 280.442368 224.64 \r\nL 280.442368 224.499366 \r\nL 279.569015 224.499366 \r\nz\r\n\" style=\"fill:#1f77b4;\"/>\r\n   </g>\r\n   <g id=\"patch_204\">\r\n    <path clip-path=\"url(#p43e291fcf1)\" d=\"M 280.660707 224.64 \r\nL 281.53406 224.64 \r\nL 281.53406 224.639832 \r\nL 280.660707 224.639832 \r\nz\r\n\" style=\"fill:#1f77b4;\"/>\r\n   </g>\r\n   <g id=\"patch_205\">\r\n    <path clip-path=\"url(#p43e291fcf1)\" d=\"M 281.752398 224.64 \r\nL 282.625752 224.64 \r\nL 282.625752 224.522358 \r\nL 281.752398 224.522358 \r\nz\r\n\" style=\"fill:#1f77b4;\"/>\r\n   </g>\r\n   <g id=\"patch_206\">\r\n    <path clip-path=\"url(#p43e291fcf1)\" d=\"M 282.84409 224.64 \r\nL 283.717443 224.64 \r\nL 283.717443 224.285922 \r\nL 282.84409 224.285922 \r\nz\r\n\" style=\"fill:#1f77b4;\"/>\r\n   </g>\r\n   <g id=\"patch_207\">\r\n    <path clip-path=\"url(#p43e291fcf1)\" d=\"M 283.935782 224.64 \r\nL 284.809135 224.64 \r\nL 284.809135 224.54753 \r\nL 283.935782 224.54753 \r\nz\r\n\" style=\"fill:#1f77b4;\"/>\r\n   </g>\r\n   <g id=\"patch_208\">\r\n    <path clip-path=\"url(#p43e291fcf1)\" d=\"M 285.027473 224.64 \r\nL 285.900827 224.64 \r\nL 285.900827 224.616375 \r\nL 285.027473 224.616375 \r\nz\r\n\" style=\"fill:#1f77b4;\"/>\r\n   </g>\r\n   <g id=\"patch_209\">\r\n    <path clip-path=\"url(#p43e291fcf1)\" d=\"M 286.119165 224.64 \r\nL 286.992518 224.64 \r\nL 286.992518 224.634412 \r\nL 286.119165 224.634412 \r\nz\r\n\" style=\"fill:#1f77b4;\"/>\r\n   </g>\r\n   <g id=\"patch_210\">\r\n    <path clip-path=\"url(#p43e291fcf1)\" d=\"M 287.210857 224.64 \r\nL 288.08421 224.64 \r\nL 288.08421 224.639962 \r\nL 287.210857 224.639962 \r\nz\r\n\" style=\"fill:#1f77b4;\"/>\r\n   </g>\r\n   <g id=\"patch_211\">\r\n    <path clip-path=\"url(#p43e291fcf1)\" d=\"M 288.302548 224.64 \r\nL 289.175902 224.64 \r\nL 289.175902 224.307795 \r\nL 288.302548 224.307795 \r\nz\r\n\" style=\"fill:#1f77b4;\"/>\r\n   </g>\r\n   <g id=\"patch_212\">\r\n    <path clip-path=\"url(#p43e291fcf1)\" d=\"M 289.39424 224.64 \r\nL 290.267593 224.64 \r\nL 290.267593 221.385779 \r\nL 289.39424 221.385779 \r\nz\r\n\" style=\"fill:#1f77b4;\"/>\r\n   </g>\r\n   <g id=\"patch_213\">\r\n    <path clip-path=\"url(#p43e291fcf1)\" d=\"M 290.485932 224.64 \r\nL 291.359285 224.64 \r\nL 291.359285 221.96195 \r\nL 290.485932 221.96195 \r\nz\r\n\" style=\"fill:#1f77b4;\"/>\r\n   </g>\r\n   <g id=\"patch_214\">\r\n    <path clip-path=\"url(#p43e291fcf1)\" d=\"M 291.577623 224.64 \r\nL 292.450977 224.64 \r\nL 292.450977 224.635714 \r\nL 291.577623 224.635714 \r\nz\r\n\" style=\"fill:#1f77b4;\"/>\r\n   </g>\r\n   <g id=\"patch_215\">\r\n    <path clip-path=\"url(#p43e291fcf1)\" d=\"M 292.669315 224.64 \r\nL 293.542668 224.64 \r\nL 293.542668 219.776822 \r\nL 292.669315 219.776822 \r\nz\r\n\" style=\"fill:#1f77b4;\"/>\r\n   </g>\r\n   <g id=\"patch_216\">\r\n    <path clip-path=\"url(#p43e291fcf1)\" d=\"M 293.761007 224.64 \r\nL 294.63436 224.64 \r\nL 294.63436 224.600457 \r\nL 293.761007 224.600457 \r\nz\r\n\" style=\"fill:#1f77b4;\"/>\r\n   </g>\r\n   <g id=\"patch_217\">\r\n    <path clip-path=\"url(#p43e291fcf1)\" d=\"M 294.852698 224.64 \r\nL 295.726052 224.64 \r\nL 295.726052 224.2815 \r\nL 294.852698 224.2815 \r\nz\r\n\" style=\"fill:#1f77b4;\"/>\r\n   </g>\r\n   <g id=\"patch_218\">\r\n    <path clip-path=\"url(#p43e291fcf1)\" d=\"M 295.94439 224.64 \r\nL 296.817743 224.64 \r\nL 296.817743 224.63492 \r\nL 295.94439 224.63492 \r\nz\r\n\" style=\"fill:#1f77b4;\"/>\r\n   </g>\r\n   <g id=\"patch_219\">\r\n    <path clip-path=\"url(#p43e291fcf1)\" d=\"M 297.036082 224.64 \r\nL 297.909435 224.64 \r\nL 297.909435 223.872914 \r\nL 297.036082 223.872914 \r\nz\r\n\" style=\"fill:#1f77b4;\"/>\r\n   </g>\r\n   <g id=\"patch_220\">\r\n    <path clip-path=\"url(#p43e291fcf1)\" d=\"M 298.127773 224.64 \r\nL 299.001127 224.64 \r\nL 299.001127 219.798384 \r\nL 298.127773 219.798384 \r\nz\r\n\" style=\"fill:#1f77b4;\"/>\r\n   </g>\r\n   <g id=\"patch_221\">\r\n    <path clip-path=\"url(#p43e291fcf1)\" d=\"M 299.219465 224.64 \r\nL 300.092818 224.64 \r\nL 300.092818 224.198223 \r\nL 299.219465 224.198223 \r\nz\r\n\" style=\"fill:#1f77b4;\"/>\r\n   </g>\r\n   <g id=\"patch_222\">\r\n    <path clip-path=\"url(#p43e291fcf1)\" d=\"M 300.311157 224.64 \r\nL 301.18451 224.64 \r\nL 301.18451 224.50642 \r\nL 300.311157 224.50642 \r\nz\r\n\" style=\"fill:#1f77b4;\"/>\r\n   </g>\r\n   <g id=\"patch_223\">\r\n    <path clip-path=\"url(#p43e291fcf1)\" d=\"M 301.402848 224.64 \r\nL 302.276202 224.64 \r\nL 302.276202 222.46185 \r\nL 301.402848 222.46185 \r\nz\r\n\" style=\"fill:#1f77b4;\"/>\r\n   </g>\r\n   <g id=\"patch_224\">\r\n    <path clip-path=\"url(#p43e291fcf1)\" d=\"M 302.49454 224.64 \r\nL 303.367893 224.64 \r\nL 303.367893 223.781841 \r\nL 302.49454 223.781841 \r\nz\r\n\" style=\"fill:#1f77b4;\"/>\r\n   </g>\r\n   <g id=\"patch_225\">\r\n    <path clip-path=\"url(#p43e291fcf1)\" d=\"M 303.586232 224.64 \r\nL 304.459585 224.64 \r\nL 304.459585 223.738905 \r\nL 303.586232 223.738905 \r\nz\r\n\" style=\"fill:#1f77b4;\"/>\r\n   </g>\r\n   <g id=\"patch_226\">\r\n    <path clip-path=\"url(#p43e291fcf1)\" d=\"M 304.677923 224.64 \r\nL 305.551277 224.64 \r\nL 305.551277 224.542082 \r\nL 304.677923 224.542082 \r\nz\r\n\" style=\"fill:#1f77b4;\"/>\r\n   </g>\r\n   <g id=\"patch_227\">\r\n    <path clip-path=\"url(#p43e291fcf1)\" d=\"M 305.769615 224.64 \r\nL 306.642968 224.64 \r\nL 306.642968 224.431598 \r\nL 305.769615 224.431598 \r\nz\r\n\" style=\"fill:#1f77b4;\"/>\r\n   </g>\r\n   <g id=\"patch_228\">\r\n    <path clip-path=\"url(#p43e291fcf1)\" d=\"M 306.861307 224.64 \r\nL 307.73466 224.64 \r\nL 307.73466 222.788582 \r\nL 306.861307 222.788582 \r\nz\r\n\" style=\"fill:#1f77b4;\"/>\r\n   </g>\r\n   <g id=\"patch_229\">\r\n    <path clip-path=\"url(#p43e291fcf1)\" d=\"M 307.952998 224.64 \r\nL 308.826352 224.64 \r\nL 308.826352 224.087414 \r\nL 307.952998 224.087414 \r\nz\r\n\" style=\"fill:#1f77b4;\"/>\r\n   </g>\r\n   <g id=\"patch_230\">\r\n    <path clip-path=\"url(#p43e291fcf1)\" d=\"M 309.04469 224.64 \r\nL 309.918043 224.64 \r\nL 309.918043 224.628351 \r\nL 309.04469 224.628351 \r\nz\r\n\" style=\"fill:#1f77b4;\"/>\r\n   </g>\r\n   <g id=\"patch_231\">\r\n    <path clip-path=\"url(#p43e291fcf1)\" d=\"M 310.136382 224.64 \r\nL 311.009735 224.64 \r\nL 311.009735 224.566167 \r\nL 310.136382 224.566167 \r\nz\r\n\" style=\"fill:#1f77b4;\"/>\r\n   </g>\r\n   <g id=\"patch_232\">\r\n    <path clip-path=\"url(#p43e291fcf1)\" d=\"M 311.228073 224.64 \r\nL 312.101427 224.64 \r\nL 312.101427 222.274491 \r\nL 311.228073 222.274491 \r\nz\r\n\" style=\"fill:#1f77b4;\"/>\r\n   </g>\r\n   <g id=\"patch_233\">\r\n    <path clip-path=\"url(#p43e291fcf1)\" d=\"M 312.319765 224.64 \r\nL 313.193118 224.64 \r\nL 313.193118 222.772545 \r\nL 312.319765 222.772545 \r\nz\r\n\" style=\"fill:#1f77b4;\"/>\r\n   </g>\r\n   <g id=\"patch_234\">\r\n    <path clip-path=\"url(#p43e291fcf1)\" d=\"M 313.411457 224.64 \r\nL 314.28481 224.64 \r\nL 314.28481 224.595694 \r\nL 313.411457 224.595694 \r\nz\r\n\" style=\"fill:#1f77b4;\"/>\r\n   </g>\r\n   <g id=\"patch_235\">\r\n    <path clip-path=\"url(#p43e291fcf1)\" d=\"M 314.503148 224.64 \r\nL 315.376502 224.64 \r\nL 315.376502 224.548451 \r\nL 314.503148 224.548451 \r\nz\r\n\" style=\"fill:#1f77b4;\"/>\r\n   </g>\r\n   <g id=\"patch_236\">\r\n    <path clip-path=\"url(#p43e291fcf1)\" d=\"M 315.59484 224.64 \r\nL 316.468193 224.64 \r\nL 316.468193 224.285219 \r\nL 315.59484 224.285219 \r\nz\r\n\" style=\"fill:#1f77b4;\"/>\r\n   </g>\r\n   <g id=\"patch_237\">\r\n    <path clip-path=\"url(#p43e291fcf1)\" d=\"M 316.686532 224.64 \r\nL 317.559885 224.64 \r\nL 317.559885 224.613816 \r\nL 316.686532 224.613816 \r\nz\r\n\" style=\"fill:#1f77b4;\"/>\r\n   </g>\r\n   <g id=\"patch_238\">\r\n    <path clip-path=\"url(#p43e291fcf1)\" d=\"M 317.778223 224.64 \r\nL 318.651577 224.64 \r\nL 318.651577 224.532001 \r\nL 317.778223 224.532001 \r\nz\r\n\" style=\"fill:#1f77b4;\"/>\r\n   </g>\r\n   <g id=\"patch_239\">\r\n    <path clip-path=\"url(#p43e291fcf1)\" d=\"M 318.869915 224.64 \r\nL 319.743268 224.64 \r\nL 319.743268 224.115097 \r\nL 318.869915 224.115097 \r\nz\r\n\" style=\"fill:#1f77b4;\"/>\r\n   </g>\r\n   <g id=\"patch_240\">\r\n    <path clip-path=\"url(#p43e291fcf1)\" d=\"M 319.961607 224.64 \r\nL 320.83496 224.64 \r\nL 320.83496 224.002301 \r\nL 319.961607 224.002301 \r\nz\r\n\" style=\"fill:#1f77b4;\"/>\r\n   </g>\r\n   <g id=\"patch_241\">\r\n    <path clip-path=\"url(#p43e291fcf1)\" d=\"M 321.053298 224.64 \r\nL 321.926652 224.64 \r\nL 321.926652 222.767473 \r\nL 321.053298 222.767473 \r\nz\r\n\" style=\"fill:#1f77b4;\"/>\r\n   </g>\r\n   <g id=\"patch_242\">\r\n    <path clip-path=\"url(#p43e291fcf1)\" d=\"M 322.14499 224.64 \r\nL 323.018343 224.64 \r\nL 323.018343 224.499928 \r\nL 322.14499 224.499928 \r\nz\r\n\" style=\"fill:#1f77b4;\"/>\r\n   </g>\r\n   <g id=\"patch_243\">\r\n    <path clip-path=\"url(#p43e291fcf1)\" d=\"M 323.236682 224.64 \r\nL 324.110035 224.64 \r\nL 324.110035 224.573648 \r\nL 323.236682 224.573648 \r\nz\r\n\" style=\"fill:#1f77b4;\"/>\r\n   </g>\r\n   <g id=\"patch_244\">\r\n    <path clip-path=\"url(#p43e291fcf1)\" d=\"M 324.328373 224.64 \r\nL 325.201727 224.64 \r\nL 325.201727 224.32831 \r\nL 324.328373 224.32831 \r\nz\r\n\" style=\"fill:#1f77b4;\"/>\r\n   </g>\r\n   <g id=\"patch_245\">\r\n    <path clip-path=\"url(#p43e291fcf1)\" d=\"M 325.420065 224.64 \r\nL 326.293418 224.64 \r\nL 326.293418 224.419398 \r\nL 325.420065 224.419398 \r\nz\r\n\" style=\"fill:#1f77b4;\"/>\r\n   </g>\r\n   <g id=\"patch_246\">\r\n    <path clip-path=\"url(#p43e291fcf1)\" d=\"M 326.511757 224.64 \r\nL 327.38511 224.64 \r\nL 327.38511 224.445267 \r\nL 326.511757 224.445267 \r\nz\r\n\" style=\"fill:#1f77b4;\"/>\r\n   </g>\r\n   <g id=\"patch_247\">\r\n    <path clip-path=\"url(#p43e291fcf1)\" d=\"M 327.603448 224.64 \r\nL 328.476802 224.64 \r\nL 328.476802 224.197409 \r\nL 327.603448 224.197409 \r\nz\r\n\" style=\"fill:#1f77b4;\"/>\r\n   </g>\r\n   <g id=\"patch_248\">\r\n    <path clip-path=\"url(#p43e291fcf1)\" d=\"M 328.69514 224.64 \r\nL 329.568493 224.64 \r\nL 329.568493 224.33254 \r\nL 328.69514 224.33254 \r\nz\r\n\" style=\"fill:#1f77b4;\"/>\r\n   </g>\r\n   <g id=\"patch_249\">\r\n    <path clip-path=\"url(#p43e291fcf1)\" d=\"M 329.786832 224.64 \r\nL 330.660185 224.64 \r\nL 330.660185 224.378103 \r\nL 329.786832 224.378103 \r\nz\r\n\" style=\"fill:#1f77b4;\"/>\r\n   </g>\r\n   <g id=\"patch_250\">\r\n    <path clip-path=\"url(#p43e291fcf1)\" d=\"M 330.878523 224.64 \r\nL 331.751877 224.64 \r\nL 331.751877 224.54276 \r\nL 330.878523 224.54276 \r\nz\r\n\" style=\"fill:#1f77b4;\"/>\r\n   </g>\r\n   <g id=\"patch_251\">\r\n    <path clip-path=\"url(#p43e291fcf1)\" d=\"M 331.970215 224.64 \r\nL 332.843568 224.64 \r\nL 332.843568 224.516496 \r\nL 331.970215 224.516496 \r\nz\r\n\" style=\"fill:#1f77b4;\"/>\r\n   </g>\r\n   <g id=\"patch_252\">\r\n    <path clip-path=\"url(#p43e291fcf1)\" d=\"M 333.061907 224.64 \r\nL 333.93526 224.64 \r\nL 333.93526 224.361788 \r\nL 333.061907 224.361788 \r\nz\r\n\" style=\"fill:#1f77b4;\"/>\r\n   </g>\r\n   <g id=\"patch_253\">\r\n    <path clip-path=\"url(#p43e291fcf1)\" d=\"M 334.153598 224.64 \r\nL 335.026952 224.64 \r\nL 335.026952 222.436642 \r\nL 334.153598 222.436642 \r\nz\r\n\" style=\"fill:#1f77b4;\"/>\r\n   </g>\r\n   <g id=\"patch_254\">\r\n    <path clip-path=\"url(#p43e291fcf1)\" d=\"M 335.24529 224.64 \r\nL 336.118643 224.64 \r\nL 336.118643 224.63372 \r\nL 335.24529 224.63372 \r\nz\r\n\" style=\"fill:#1f77b4;\"/>\r\n   </g>\r\n   <g id=\"patch_255\">\r\n    <path clip-path=\"url(#p43e291fcf1)\" d=\"M 336.336982 224.64 \r\nL 337.210335 224.64 \r\nL 337.210335 224.422373 \r\nL 336.336982 224.422373 \r\nz\r\n\" style=\"fill:#1f77b4;\"/>\r\n   </g>\r\n   <g id=\"patch_256\">\r\n    <path clip-path=\"url(#p43e291fcf1)\" d=\"M 337.428673 224.64 \r\nL 338.302027 224.64 \r\nL 338.302027 223.578226 \r\nL 337.428673 223.578226 \r\nz\r\n\" style=\"fill:#1f77b4;\"/>\r\n   </g>\r\n   <g id=\"patch_257\">\r\n    <path clip-path=\"url(#p43e291fcf1)\" d=\"M 338.520365 224.64 \r\nL 339.393718 224.64 \r\nL 339.393718 224.482388 \r\nL 338.520365 224.482388 \r\nz\r\n\" style=\"fill:#1f77b4;\"/>\r\n   </g>\r\n   <g id=\"patch_258\">\r\n    <path clip-path=\"url(#p43e291fcf1)\" d=\"M 339.612057 224.64 \r\nL 340.48541 224.64 \r\nL 340.48541 224.616067 \r\nL 339.612057 224.616067 \r\nz\r\n\" style=\"fill:#1f77b4;\"/>\r\n   </g>\r\n   <g id=\"patch_259\">\r\n    <path clip-path=\"url(#p43e291fcf1)\" d=\"M 340.703748 224.64 \r\nL 341.577102 224.64 \r\nL 341.577102 223.69263 \r\nL 340.703748 223.69263 \r\nz\r\n\" style=\"fill:#1f77b4;\"/>\r\n   </g>\r\n   <g id=\"patch_260\">\r\n    <path clip-path=\"url(#p43e291fcf1)\" d=\"M 341.79544 224.64 \r\nL 342.668793 224.64 \r\nL 342.668793 224.609274 \r\nL 341.79544 224.609274 \r\nz\r\n\" style=\"fill:#1f77b4;\"/>\r\n   </g>\r\n   <g id=\"patch_261\">\r\n    <path clip-path=\"url(#p43e291fcf1)\" d=\"M 342.887132 224.64 \r\nL 343.760485 224.64 \r\nL 343.760485 224.070316 \r\nL 342.887132 224.070316 \r\nz\r\n\" style=\"fill:#1f77b4;\"/>\r\n   </g>\r\n   <g id=\"patch_262\">\r\n    <path clip-path=\"url(#p43e291fcf1)\" d=\"M 343.978823 224.64 \r\nL 344.852177 224.64 \r\nL 344.852177 224.557251 \r\nL 343.978823 224.557251 \r\nz\r\n\" style=\"fill:#1f77b4;\"/>\r\n   </g>\r\n   <g id=\"patch_263\">\r\n    <path clip-path=\"url(#p43e291fcf1)\" d=\"M 345.070515 224.64 \r\nL 345.943868 224.64 \r\nL 345.943868 224.62024 \r\nL 345.070515 224.62024 \r\nz\r\n\" style=\"fill:#1f77b4;\"/>\r\n   </g>\r\n   <g id=\"patch_264\">\r\n    <path clip-path=\"url(#p43e291fcf1)\" d=\"M 346.162207 224.64 \r\nL 347.03556 224.64 \r\nL 347.03556 223.607318 \r\nL 346.162207 223.607318 \r\nz\r\n\" style=\"fill:#1f77b4;\"/>\r\n   </g>\r\n   <g id=\"patch_265\">\r\n    <path clip-path=\"url(#p43e291fcf1)\" d=\"M 347.253898 224.64 \r\nL 348.127252 224.64 \r\nL 348.127252 223.620875 \r\nL 347.253898 223.620875 \r\nz\r\n\" style=\"fill:#1f77b4;\"/>\r\n   </g>\r\n   <g id=\"patch_266\">\r\n    <path clip-path=\"url(#p43e291fcf1)\" d=\"M 348.34559 224.64 \r\nL 349.218943 224.64 \r\nL 349.218943 221.630698 \r\nL 348.34559 221.630698 \r\nz\r\n\" style=\"fill:#1f77b4;\"/>\r\n   </g>\r\n   <g id=\"patch_267\">\r\n    <path clip-path=\"url(#p43e291fcf1)\" d=\"M 349.437282 224.64 \r\nL 350.310635 224.64 \r\nL 350.310635 224.160271 \r\nL 349.437282 224.160271 \r\nz\r\n\" style=\"fill:#1f77b4;\"/>\r\n   </g>\r\n   <g id=\"patch_268\">\r\n    <path clip-path=\"url(#p43e291fcf1)\" d=\"M 350.528973 224.64 \r\nL 351.402327 224.64 \r\nL 351.402327 224.208275 \r\nL 350.528973 224.208275 \r\nz\r\n\" style=\"fill:#1f77b4;\"/>\r\n   </g>\r\n   <g id=\"patch_269\">\r\n    <path clip-path=\"url(#p43e291fcf1)\" d=\"M 351.620665 224.64 \r\nL 352.494018 224.64 \r\nL 352.494018 222.466427 \r\nL 351.620665 222.466427 \r\nz\r\n\" style=\"fill:#1f77b4;\"/>\r\n   </g>\r\n   <g id=\"patch_270\">\r\n    <path clip-path=\"url(#p43e291fcf1)\" d=\"M 352.712357 224.64 \r\nL 353.58571 224.64 \r\nL 353.58571 224.314845 \r\nL 352.712357 224.314845 \r\nz\r\n\" style=\"fill:#1f77b4;\"/>\r\n   </g>\r\n   <g id=\"patch_271\">\r\n    <path clip-path=\"url(#p43e291fcf1)\" d=\"M 353.804048 224.64 \r\nL 354.677402 224.64 \r\nL 354.677402 224.138406 \r\nL 353.804048 224.138406 \r\nz\r\n\" style=\"fill:#1f77b4;\"/>\r\n   </g>\r\n   <g id=\"patch_272\">\r\n    <path clip-path=\"url(#p43e291fcf1)\" d=\"M 354.89574 224.64 \r\nL 355.769093 224.64 \r\nL 355.769093 224.514314 \r\nL 354.89574 224.514314 \r\nz\r\n\" style=\"fill:#1f77b4;\"/>\r\n   </g>\r\n   <g id=\"patch_273\">\r\n    <path clip-path=\"url(#p43e291fcf1)\" d=\"M 355.987432 224.64 \r\nL 356.860785 224.64 \r\nL 356.860785 223.153823 \r\nL 355.987432 223.153823 \r\nz\r\n\" style=\"fill:#1f77b4;\"/>\r\n   </g>\r\n   <g id=\"patch_274\">\r\n    <path clip-path=\"url(#p43e291fcf1)\" d=\"M 357.079123 224.64 \r\nL 357.952477 224.64 \r\nL 357.952477 224.624251 \r\nL 357.079123 224.624251 \r\nz\r\n\" style=\"fill:#1f77b4;\"/>\r\n   </g>\r\n   <g id=\"patch_275\">\r\n    <path clip-path=\"url(#p43e291fcf1)\" d=\"M 358.170815 224.64 \r\nL 359.044168 224.64 \r\nL 359.044168 224.558207 \r\nL 358.170815 224.558207 \r\nz\r\n\" style=\"fill:#1f77b4;\"/>\r\n   </g>\r\n   <g id=\"patch_276\">\r\n    <path clip-path=\"url(#p43e291fcf1)\" d=\"M 359.262507 224.64 \r\nL 360.13586 224.64 \r\nL 360.13586 224.072182 \r\nL 359.262507 224.072182 \r\nz\r\n\" style=\"fill:#1f77b4;\"/>\r\n   </g>\r\n   <g id=\"patch_277\">\r\n    <path clip-path=\"url(#p43e291fcf1)\" d=\"M 360.354198 224.64 \r\nL 361.227552 224.64 \r\nL 361.227552 224.258604 \r\nL 360.354198 224.258604 \r\nz\r\n\" style=\"fill:#1f77b4;\"/>\r\n   </g>\r\n   <g id=\"patch_278\">\r\n    <path clip-path=\"url(#p43e291fcf1)\" d=\"M 361.44589 224.64 \r\nL 362.319243 224.64 \r\nL 362.319243 224.429606 \r\nL 361.44589 224.429606 \r\nz\r\n\" style=\"fill:#1f77b4;\"/>\r\n   </g>\r\n   <g id=\"patch_279\">\r\n    <path clip-path=\"url(#p43e291fcf1)\" d=\"M 362.537582 224.64 \r\nL 363.410935 224.64 \r\nL 363.410935 223.84175 \r\nL 362.537582 223.84175 \r\nz\r\n\" style=\"fill:#1f77b4;\"/>\r\n   </g>\r\n   <g id=\"patch_280\">\r\n    <path clip-path=\"url(#p43e291fcf1)\" d=\"M 363.629273 224.64 \r\nL 364.502627 224.64 \r\nL 364.502627 224.51405 \r\nL 363.629273 224.51405 \r\nz\r\n\" style=\"fill:#1f77b4;\"/>\r\n   </g>\r\n   <g id=\"patch_281\">\r\n    <path clip-path=\"url(#p43e291fcf1)\" d=\"M 364.720965 224.64 \r\nL 365.594318 224.64 \r\nL 365.594318 219.828362 \r\nL 364.720965 219.828362 \r\nz\r\n\" style=\"fill:#1f77b4;\"/>\r\n   </g>\r\n   <g id=\"matplotlib.axis_1\">\r\n    <g id=\"xtick_1\">\r\n     <g id=\"line2d_1\">\r\n      <defs>\r\n       <path d=\"M 0 0 \r\nL 0 3.5 \r\n\" id=\"md2ddc0cb21\" style=\"stroke:#000000;stroke-width:0.8;\"/>\r\n      </defs>\r\n      <g>\r\n       <use style=\"stroke:#000000;stroke-width:0.8;\" x=\"61.667358\" xlink:href=\"#md2ddc0cb21\" y=\"224.64\"/>\r\n      </g>\r\n     </g>\r\n     <g id=\"text_1\">\r\n      <!-- 0 -->\r\n      <g transform=\"translate(58.486108 239.238437)scale(0.1 -0.1)\">\r\n       <defs>\r\n        <path d=\"M 31.78125 66.40625 \r\nQ 24.171875 66.40625 20.328125 58.90625 \r\nQ 16.5 51.421875 16.5 36.375 \r\nQ 16.5 21.390625 20.328125 13.890625 \r\nQ 24.171875 6.390625 31.78125 6.390625 \r\nQ 39.453125 6.390625 43.28125 13.890625 \r\nQ 47.125 21.390625 47.125 36.375 \r\nQ 47.125 51.421875 43.28125 58.90625 \r\nQ 39.453125 66.40625 31.78125 66.40625 \r\nz\r\nM 31.78125 74.21875 \r\nQ 44.046875 74.21875 50.515625 64.515625 \r\nQ 56.984375 54.828125 56.984375 36.375 \r\nQ 56.984375 17.96875 50.515625 8.265625 \r\nQ 44.046875 -1.421875 31.78125 -1.421875 \r\nQ 19.53125 -1.421875 13.0625 8.265625 \r\nQ 6.59375 17.96875 6.59375 36.375 \r\nQ 6.59375 54.828125 13.0625 64.515625 \r\nQ 19.53125 74.21875 31.78125 74.21875 \r\nz\r\n\" id=\"DejaVuSans-48\"/>\r\n       </defs>\r\n       <use xlink:href=\"#DejaVuSans-48\"/>\r\n      </g>\r\n     </g>\r\n    </g>\r\n    <g id=\"xtick_2\">\r\n     <g id=\"line2d_2\">\r\n      <g>\r\n       <use style=\"stroke:#000000;stroke-width:0.8;\" x=\"116.251942\" xlink:href=\"#md2ddc0cb21\" y=\"224.64\"/>\r\n      </g>\r\n     </g>\r\n     <g id=\"text_2\">\r\n      <!-- 50 -->\r\n      <g transform=\"translate(109.889442 239.238437)scale(0.1 -0.1)\">\r\n       <defs>\r\n        <path d=\"M 10.796875 72.90625 \r\nL 49.515625 72.90625 \r\nL 49.515625 64.59375 \r\nL 19.828125 64.59375 \r\nL 19.828125 46.734375 \r\nQ 21.96875 47.46875 24.109375 47.828125 \r\nQ 26.265625 48.1875 28.421875 48.1875 \r\nQ 40.625 48.1875 47.75 41.5 \r\nQ 54.890625 34.8125 54.890625 23.390625 \r\nQ 54.890625 11.625 47.5625 5.09375 \r\nQ 40.234375 -1.421875 26.90625 -1.421875 \r\nQ 22.3125 -1.421875 17.546875 -0.640625 \r\nQ 12.796875 0.140625 7.71875 1.703125 \r\nL 7.71875 11.625 \r\nQ 12.109375 9.234375 16.796875 8.0625 \r\nQ 21.484375 6.890625 26.703125 6.890625 \r\nQ 35.15625 6.890625 40.078125 11.328125 \r\nQ 45.015625 15.765625 45.015625 23.390625 \r\nQ 45.015625 31 40.078125 35.4375 \r\nQ 35.15625 39.890625 26.703125 39.890625 \r\nQ 22.75 39.890625 18.8125 39.015625 \r\nQ 14.890625 38.140625 10.796875 36.28125 \r\nz\r\n\" id=\"DejaVuSans-53\"/>\r\n       </defs>\r\n       <use xlink:href=\"#DejaVuSans-53\"/>\r\n       <use x=\"63.623047\" xlink:href=\"#DejaVuSans-48\"/>\r\n      </g>\r\n     </g>\r\n    </g>\r\n    <g id=\"xtick_3\">\r\n     <g id=\"line2d_3\">\r\n      <g>\r\n       <use style=\"stroke:#000000;stroke-width:0.8;\" x=\"170.836525\" xlink:href=\"#md2ddc0cb21\" y=\"224.64\"/>\r\n      </g>\r\n     </g>\r\n     <g id=\"text_3\">\r\n      <!-- 100 -->\r\n      <g transform=\"translate(161.292775 239.238437)scale(0.1 -0.1)\">\r\n       <defs>\r\n        <path d=\"M 12.40625 8.296875 \r\nL 28.515625 8.296875 \r\nL 28.515625 63.921875 \r\nL 10.984375 60.40625 \r\nL 10.984375 69.390625 \r\nL 28.421875 72.90625 \r\nL 38.28125 72.90625 \r\nL 38.28125 8.296875 \r\nL 54.390625 8.296875 \r\nL 54.390625 0 \r\nL 12.40625 0 \r\nz\r\n\" id=\"DejaVuSans-49\"/>\r\n       </defs>\r\n       <use xlink:href=\"#DejaVuSans-49\"/>\r\n       <use x=\"63.623047\" xlink:href=\"#DejaVuSans-48\"/>\r\n       <use x=\"127.246094\" xlink:href=\"#DejaVuSans-48\"/>\r\n      </g>\r\n     </g>\r\n    </g>\r\n    <g id=\"xtick_4\">\r\n     <g id=\"line2d_4\">\r\n      <g>\r\n       <use style=\"stroke:#000000;stroke-width:0.8;\" x=\"225.421108\" xlink:href=\"#md2ddc0cb21\" y=\"224.64\"/>\r\n      </g>\r\n     </g>\r\n     <g id=\"text_4\">\r\n      <!-- 150 -->\r\n      <g transform=\"translate(215.877358 239.238437)scale(0.1 -0.1)\">\r\n       <use xlink:href=\"#DejaVuSans-49\"/>\r\n       <use x=\"63.623047\" xlink:href=\"#DejaVuSans-53\"/>\r\n       <use x=\"127.246094\" xlink:href=\"#DejaVuSans-48\"/>\r\n      </g>\r\n     </g>\r\n    </g>\r\n    <g id=\"xtick_5\">\r\n     <g id=\"line2d_5\">\r\n      <g>\r\n       <use style=\"stroke:#000000;stroke-width:0.8;\" x=\"280.005692\" xlink:href=\"#md2ddc0cb21\" y=\"224.64\"/>\r\n      </g>\r\n     </g>\r\n     <g id=\"text_5\">\r\n      <!-- 200 -->\r\n      <g transform=\"translate(270.461942 239.238437)scale(0.1 -0.1)\">\r\n       <defs>\r\n        <path d=\"M 19.1875 8.296875 \r\nL 53.609375 8.296875 \r\nL 53.609375 0 \r\nL 7.328125 0 \r\nL 7.328125 8.296875 \r\nQ 12.9375 14.109375 22.625 23.890625 \r\nQ 32.328125 33.6875 34.8125 36.53125 \r\nQ 39.546875 41.84375 41.421875 45.53125 \r\nQ 43.3125 49.21875 43.3125 52.78125 \r\nQ 43.3125 58.59375 39.234375 62.25 \r\nQ 35.15625 65.921875 28.609375 65.921875 \r\nQ 23.96875 65.921875 18.8125 64.3125 \r\nQ 13.671875 62.703125 7.8125 59.421875 \r\nL 7.8125 69.390625 \r\nQ 13.765625 71.78125 18.9375 73 \r\nQ 24.125 74.21875 28.421875 74.21875 \r\nQ 39.75 74.21875 46.484375 68.546875 \r\nQ 53.21875 62.890625 53.21875 53.421875 \r\nQ 53.21875 48.921875 51.53125 44.890625 \r\nQ 49.859375 40.875 45.40625 35.40625 \r\nQ 44.1875 33.984375 37.640625 27.21875 \r\nQ 31.109375 20.453125 19.1875 8.296875 \r\nz\r\n\" id=\"DejaVuSans-50\"/>\r\n       </defs>\r\n       <use xlink:href=\"#DejaVuSans-50\"/>\r\n       <use x=\"63.623047\" xlink:href=\"#DejaVuSans-48\"/>\r\n       <use x=\"127.246094\" xlink:href=\"#DejaVuSans-48\"/>\r\n      </g>\r\n     </g>\r\n    </g>\r\n    <g id=\"xtick_6\">\r\n     <g id=\"line2d_6\">\r\n      <g>\r\n       <use style=\"stroke:#000000;stroke-width:0.8;\" x=\"334.590275\" xlink:href=\"#md2ddc0cb21\" y=\"224.64\"/>\r\n      </g>\r\n     </g>\r\n     <g id=\"text_6\">\r\n      <!-- 250 -->\r\n      <g transform=\"translate(325.046525 239.238437)scale(0.1 -0.1)\">\r\n       <use xlink:href=\"#DejaVuSans-50\"/>\r\n       <use x=\"63.623047\" xlink:href=\"#DejaVuSans-53\"/>\r\n       <use x=\"127.246094\" xlink:href=\"#DejaVuSans-48\"/>\r\n      </g>\r\n     </g>\r\n    </g>\r\n   </g>\r\n   <g id=\"matplotlib.axis_2\">\r\n    <g id=\"ytick_1\">\r\n     <g id=\"line2d_7\">\r\n      <defs>\r\n       <path d=\"M 0 0 \r\nL -3.5 0 \r\n\" id=\"m5cfdc97bb8\" style=\"stroke:#000000;stroke-width:0.8;\"/>\r\n      </defs>\r\n      <g>\r\n       <use style=\"stroke:#000000;stroke-width:0.8;\" x=\"46.0125\" xlink:href=\"#m5cfdc97bb8\" y=\"224.64\"/>\r\n      </g>\r\n     </g>\r\n     <g id=\"text_7\">\r\n      <!-- 0 -->\r\n      <g transform=\"translate(32.65 228.439219)scale(0.1 -0.1)\">\r\n       <use xlink:href=\"#DejaVuSans-48\"/>\r\n      </g>\r\n     </g>\r\n    </g>\r\n    <g id=\"ytick_2\">\r\n     <g id=\"line2d_8\">\r\n      <g>\r\n       <use style=\"stroke:#000000;stroke-width:0.8;\" x=\"46.0125\" xlink:href=\"#m5cfdc97bb8\" y=\"177.888695\"/>\r\n      </g>\r\n     </g>\r\n     <g id=\"text_8\">\r\n      <!-- 5000 -->\r\n      <g transform=\"translate(13.5625 181.687914)scale(0.1 -0.1)\">\r\n       <use xlink:href=\"#DejaVuSans-53\"/>\r\n       <use x=\"63.623047\" xlink:href=\"#DejaVuSans-48\"/>\r\n       <use x=\"127.246094\" xlink:href=\"#DejaVuSans-48\"/>\r\n       <use x=\"190.869141\" xlink:href=\"#DejaVuSans-48\"/>\r\n      </g>\r\n     </g>\r\n    </g>\r\n    <g id=\"ytick_3\">\r\n     <g id=\"line2d_9\">\r\n      <g>\r\n       <use style=\"stroke:#000000;stroke-width:0.8;\" x=\"46.0125\" xlink:href=\"#m5cfdc97bb8\" y=\"131.13739\"/>\r\n      </g>\r\n     </g>\r\n     <g id=\"text_9\">\r\n      <!-- 10000 -->\r\n      <g transform=\"translate(7.2 134.936609)scale(0.1 -0.1)\">\r\n       <use xlink:href=\"#DejaVuSans-49\"/>\r\n       <use x=\"63.623047\" xlink:href=\"#DejaVuSans-48\"/>\r\n       <use x=\"127.246094\" xlink:href=\"#DejaVuSans-48\"/>\r\n       <use x=\"190.869141\" xlink:href=\"#DejaVuSans-48\"/>\r\n       <use x=\"254.492188\" xlink:href=\"#DejaVuSans-48\"/>\r\n      </g>\r\n     </g>\r\n    </g>\r\n    <g id=\"ytick_4\">\r\n     <g id=\"line2d_10\">\r\n      <g>\r\n       <use style=\"stroke:#000000;stroke-width:0.8;\" x=\"46.0125\" xlink:href=\"#m5cfdc97bb8\" y=\"84.386085\"/>\r\n      </g>\r\n     </g>\r\n     <g id=\"text_10\">\r\n      <!-- 15000 -->\r\n      <g transform=\"translate(7.2 88.185304)scale(0.1 -0.1)\">\r\n       <use xlink:href=\"#DejaVuSans-49\"/>\r\n       <use x=\"63.623047\" xlink:href=\"#DejaVuSans-53\"/>\r\n       <use x=\"127.246094\" xlink:href=\"#DejaVuSans-48\"/>\r\n       <use x=\"190.869141\" xlink:href=\"#DejaVuSans-48\"/>\r\n       <use x=\"254.492188\" xlink:href=\"#DejaVuSans-48\"/>\r\n      </g>\r\n     </g>\r\n    </g>\r\n    <g id=\"ytick_5\">\r\n     <g id=\"line2d_11\">\r\n      <g>\r\n       <use style=\"stroke:#000000;stroke-width:0.8;\" x=\"46.0125\" xlink:href=\"#m5cfdc97bb8\" y=\"37.63478\"/>\r\n      </g>\r\n     </g>\r\n     <g id=\"text_11\">\r\n      <!-- 20000 -->\r\n      <g transform=\"translate(7.2 41.433999)scale(0.1 -0.1)\">\r\n       <use xlink:href=\"#DejaVuSans-50\"/>\r\n       <use x=\"63.623047\" xlink:href=\"#DejaVuSans-48\"/>\r\n       <use x=\"127.246094\" xlink:href=\"#DejaVuSans-48\"/>\r\n       <use x=\"190.869141\" xlink:href=\"#DejaVuSans-48\"/>\r\n       <use x=\"254.492188\" xlink:href=\"#DejaVuSans-48\"/>\r\n      </g>\r\n     </g>\r\n    </g>\r\n   </g>\r\n   <g id=\"patch_282\">\r\n    <path d=\"M 46.0125 224.64 \r\nL 46.0125 7.2 \r\n\" style=\"fill:none;stroke:#000000;stroke-linecap:square;stroke-linejoin:miter;stroke-width:0.8;\"/>\r\n   </g>\r\n   <g id=\"patch_283\">\r\n    <path d=\"M 380.8125 224.64 \r\nL 380.8125 7.2 \r\n\" style=\"fill:none;stroke:#000000;stroke-linecap:square;stroke-linejoin:miter;stroke-width:0.8;\"/>\r\n   </g>\r\n   <g id=\"patch_284\">\r\n    <path d=\"M 46.0125 224.64 \r\nL 380.8125 224.64 \r\n\" style=\"fill:none;stroke:#000000;stroke-linecap:square;stroke-linejoin:miter;stroke-width:0.8;\"/>\r\n   </g>\r\n   <g id=\"patch_285\">\r\n    <path d=\"M 46.0125 7.2 \r\nL 380.8125 7.2 \r\n\" style=\"fill:none;stroke:#000000;stroke-linecap:square;stroke-linejoin:miter;stroke-width:0.8;\"/>\r\n   </g>\r\n  </g>\r\n </g>\r\n <defs>\r\n  <clipPath id=\"p43e291fcf1\">\r\n   <rect height=\"217.44\" width=\"334.8\" x=\"46.0125\" y=\"7.2\"/>\r\n  </clipPath>\r\n </defs>\r\n</svg>\r\n",
            "image/png": "[encoded data removed]"
          },
          "metadata": {
            "needs_background": "light"
          }
        }
      ],
      "source": [
        "# feature selection\n",
        "X_train_fs, X_test_fs, fs = select_features(X_train, y_train, X_test)\n",
        "\n",
        "# what are scores for the features\n",
        "for i in range(len(fs.scores_)):\n",
        "\tprint('Feature %d: %f' % (i, fs.scores_[i]))\n",
        "# plot the scores\n",
        "plt.bar([i for i in range(len(fs.scores_))], fs.scores_)\n",
        "plt.show()"
      ]
    },
    {
      "source": [
        "### Train the model "
      ],
      "cell_type": "markdown",
      "metadata": {}
    },
    {
      "cell_type": "code",
      "execution_count": null,
      "metadata": {},
      "outputs": [],
      "source": [
        "X_train.describe()"
      ]
    },
    {
      "cell_type": "code",
      "metadata": {
        "id": "Q42-XPJjIyXv",
        "colab_type": "code",
        "colab": {
          "base_uri": "https://localhost:8080/",
          "height": 285
        },
        "outputId": "94c92518-3ea7-48e3-999c-762159548e53"
      },
      "source": [
        "from copy import deepcopy\n",
        "\n",
        "best_r2 = 0\n",
        "best_mse = math.inf\n",
        "\n",
        "for j in range(1, 3):\n",
        "    # Linear Regression Model object\n",
        "    lgm = LinearRegression()\n",
        "\n",
        "    # Train Decision Tree Classifer\n",
        "    lgm = lgm.fit(X_train,y_train)\n",
        "\n",
        "    # predictions by model for y\n",
        "    y_pred = lgm.predict(X_test)\n",
        "\n",
        "    # accuracy check\n",
        "    mse = mean_squared_error(y_test, y_pred)\n",
        "    print('Mean squared error: ', mse)\n",
        "# The coefficient of determination: 1 is perfect prediction\n",
        "    r2 = r2_score(y_test, y_pred)\n",
        "    print('Coefficient of determination: ', r2)\n",
        "\n",
        "    if r2 >= best_r2 and mse <= best_mse:\n",
        "        best_lgm = deepcopy(lgm)\n",
        "        best_r2 = accuracy\n",
        "        best_mse = mse\n",
        "        print(\"depth: \", j)\n",
        "        print(\"best acc: \", accuracy)\n",
        "\n",
        "print('done!')"
      ],
      "execution_count": 19,
      "outputs": [
        {
          "output_type": "error",
          "ename": "LinAlgError",
          "evalue": "SVD did not converge in Linear Least Squares",
          "traceback": [
            "\u001b[1;31m---------------------------------------------------------------------------\u001b[0m",
            "\u001b[1;31mLinAlgError\u001b[0m                               Traceback (most recent call last)",
            "\u001b[1;32m<ipython-input-19-d877c86f409e>\u001b[0m in \u001b[0;36m<module>\u001b[1;34m\u001b[0m\n\u001b[0;32m      9\u001b[0m \u001b[1;33m\u001b[0m\u001b[0m\n\u001b[0;32m     10\u001b[0m     \u001b[1;31m# Train Decision Tree Classifer\u001b[0m\u001b[1;33m\u001b[0m\u001b[1;33m\u001b[0m\u001b[1;33m\u001b[0m\u001b[0m\n\u001b[1;32m---> 11\u001b[1;33m     \u001b[0mlgm\u001b[0m \u001b[1;33m=\u001b[0m \u001b[0mlgm\u001b[0m\u001b[1;33m.\u001b[0m\u001b[0mfit\u001b[0m\u001b[1;33m(\u001b[0m\u001b[0mX_train\u001b[0m\u001b[1;33m,\u001b[0m\u001b[0my_train\u001b[0m\u001b[1;33m)\u001b[0m\u001b[1;33m\u001b[0m\u001b[1;33m\u001b[0m\u001b[0m\n\u001b[0m\u001b[0;32m     12\u001b[0m \u001b[1;33m\u001b[0m\u001b[0m\n\u001b[0;32m     13\u001b[0m     \u001b[1;31m# predictions by model for y\u001b[0m\u001b[1;33m\u001b[0m\u001b[1;33m\u001b[0m\u001b[1;33m\u001b[0m\u001b[0m\n",
            "\u001b[1;32m~\\AppData\\Local\\Programs\\Python\\Python38\\lib\\site-packages\\sklearn\\linear_model\\_base.py\u001b[0m in \u001b[0;36mfit\u001b[1;34m(self, X, y, sample_weight)\u001b[0m\n\u001b[0;32m    545\u001b[0m         \u001b[1;32melse\u001b[0m\u001b[1;33m:\u001b[0m\u001b[1;33m\u001b[0m\u001b[1;33m\u001b[0m\u001b[0m\n\u001b[0;32m    546\u001b[0m             \u001b[0mself\u001b[0m\u001b[1;33m.\u001b[0m\u001b[0mcoef_\u001b[0m\u001b[1;33m,\u001b[0m \u001b[0mself\u001b[0m\u001b[1;33m.\u001b[0m\u001b[0m_residues\u001b[0m\u001b[1;33m,\u001b[0m \u001b[0mself\u001b[0m\u001b[1;33m.\u001b[0m\u001b[0mrank_\u001b[0m\u001b[1;33m,\u001b[0m \u001b[0mself\u001b[0m\u001b[1;33m.\u001b[0m\u001b[0msingular_\u001b[0m \u001b[1;33m=\u001b[0m\u001b[0;31m \u001b[0m\u001b[0;31m\\\u001b[0m\u001b[1;33m\u001b[0m\u001b[1;33m\u001b[0m\u001b[0m\n\u001b[1;32m--> 547\u001b[1;33m                 \u001b[0mlinalg\u001b[0m\u001b[1;33m.\u001b[0m\u001b[0mlstsq\u001b[0m\u001b[1;33m(\u001b[0m\u001b[0mX\u001b[0m\u001b[1;33m,\u001b[0m \u001b[0my\u001b[0m\u001b[1;33m)\u001b[0m\u001b[1;33m\u001b[0m\u001b[1;33m\u001b[0m\u001b[0m\n\u001b[0m\u001b[0;32m    548\u001b[0m             \u001b[0mself\u001b[0m\u001b[1;33m.\u001b[0m\u001b[0mcoef_\u001b[0m \u001b[1;33m=\u001b[0m \u001b[0mself\u001b[0m\u001b[1;33m.\u001b[0m\u001b[0mcoef_\u001b[0m\u001b[1;33m.\u001b[0m\u001b[0mT\u001b[0m\u001b[1;33m\u001b[0m\u001b[1;33m\u001b[0m\u001b[0m\n\u001b[0;32m    549\u001b[0m \u001b[1;33m\u001b[0m\u001b[0m\n",
            "\u001b[1;32m~\\AppData\\Local\\Programs\\Python\\Python38\\lib\\site-packages\\scipy\\linalg\\basic.py\u001b[0m in \u001b[0;36mlstsq\u001b[1;34m(a, b, cond, overwrite_a, overwrite_b, check_finite, lapack_driver)\u001b[0m\n\u001b[0;32m   1219\u001b[0m                                                cond, False, False)\n\u001b[0;32m   1220\u001b[0m         \u001b[1;32mif\u001b[0m \u001b[0minfo\u001b[0m \u001b[1;33m>\u001b[0m \u001b[1;36m0\u001b[0m\u001b[1;33m:\u001b[0m\u001b[1;33m\u001b[0m\u001b[1;33m\u001b[0m\u001b[0m\n\u001b[1;32m-> 1221\u001b[1;33m             \u001b[1;32mraise\u001b[0m \u001b[0mLinAlgError\u001b[0m\u001b[1;33m(\u001b[0m\u001b[1;34m\"SVD did not converge in Linear Least Squares\"\u001b[0m\u001b[1;33m)\u001b[0m\u001b[1;33m\u001b[0m\u001b[1;33m\u001b[0m\u001b[0m\n\u001b[0m\u001b[0;32m   1222\u001b[0m         \u001b[1;32mif\u001b[0m \u001b[0minfo\u001b[0m \u001b[1;33m<\u001b[0m \u001b[1;36m0\u001b[0m\u001b[1;33m:\u001b[0m\u001b[1;33m\u001b[0m\u001b[1;33m\u001b[0m\u001b[0m\n\u001b[0;32m   1223\u001b[0m             raise ValueError('illegal value in %d-th argument of internal %s'\n",
            "\u001b[1;31mLinAlgError\u001b[0m: SVD did not converge in Linear Least Squares"
          ]
        }
      ]
    },
    {
      "source": [
        "# SAVE MODEL!! (and test accuracy of accuracy rating)"
      ],
      "cell_type": "markdown",
      "metadata": {}
    },
    {
      "cell_type": "code",
      "execution_count": null,
      "metadata": {},
      "outputs": [],
      "source": [
        "from joblib import dump, load\n",
        "\n",
        "# swtich to model directory\n",
        "os.chdir(r\"C:\\Users\\Zack\\Desktop\\work\\OSU\\406 - p2 - learning\\jupyter practice\\final models\\models\")\n",
        "\n",
        "# create and save file\n",
        "joblib_file = \"dtc_all_9041.joblib\"  \n",
        "dump(best_dtc, joblib_file)\n",
        "\n",
        "# test load\n",
        "joblib_model = load(joblib_file)\n",
        "\n",
        "y_pred = joblib_model.predict(X_test)\n",
        "\n",
        "# custom accuracy check\n",
        "correct = 0\n",
        "y_targets = y_test[\"categories\"].tolist() \n",
        "for i in range(len(y_pred)):\n",
        "    if y_pred[i] in y_targets[i]:\n",
        "        correct += 1\n",
        "\n",
        "print(\"Accuracy:\", correct / len(y_pred))"
      ]
    },
    {
      "source": [
        "### visualize training depths"
      ],
      "cell_type": "markdown",
      "metadata": {}
    },
    {
      "cell_type": "code",
      "execution_count": null,
      "metadata": {},
      "outputs": [],
      "source": [
        "\n",
        "\n",
        "max_depth = []\n",
        "acc_gini = []\n",
        "acc_entropy = []\n",
        "\n",
        "best_acc = correct / len(y_pred)\n",
        "best_dtc = dtc\n",
        "\n",
        "y_targets = y_test[\"categories\"].tolist() \n",
        "for i in range(1,36):\n",
        "    # testing entropy\n",
        "    dtree = DecisionTreeClassifier(criterion='entropy', splitter='best', max_depth=i)\n",
        "    dtree.fit(X_train, y_train)\n",
        "    y_pred = dtree.predict(X_test)\n",
        "    correct = 0\n",
        "    for j in range(len(y_pred)):\n",
        "        if y_pred[j] in y_targets[j]:\n",
        "            correct += 1\n",
        "\n",
        "    accuracy = correct / len(y_pred)\n",
        "    acc_entropy.append(accuracy)\n",
        "    if accuracy > best_acc:\n",
        "        best_dtc = deepcopy(dtree)\n",
        "        best_acc = accuracy\n",
        "        print(\"best acc: \", accuracy)\n",
        "\n",
        "    # testing gini\n",
        "    dtree = DecisionTreeClassifier(criterion='gini', splitter='best', max_depth=i)\n",
        "    dtree.fit(X_train, y_train)\n",
        "    y_pred = dtree.predict(X_test)\n",
        "    correct = 0\n",
        "    for j in range(len(y_pred)):\n",
        "        if y_pred[j] in y_targets[j]:\n",
        "            correct += 1\n",
        "\n",
        "    accuracy = correct / len(y_pred)\n",
        "    acc_gini.append(accuracy)\n",
        "\n",
        "    if accuracy > best_acc:\n",
        "        best_dtc = deepcopy(dtree)\n",
        "        best_acc = accuracy\n",
        "        print(\"best acc: \", accuracy)\n",
        "\n",
        "    # track depth for values\n",
        "    max_depth.append(i)\n",
        "\n",
        "\n",
        "# data frame with tracked values to graph\n",
        "df = pd.DataFrame({'acc_gini':pd.Series(acc_gini), \n",
        "'acc_entropy':pd.Series(acc_entropy),\n",
        "'max_depth':pd.Series(max_depth)})"
      ]
    },
    {
      "cell_type": "code",
      "execution_count": null,
      "metadata": {},
      "outputs": [],
      "source": [
        "joblib_file = \"dtc_8936.joblib\"  \n",
        "dump(best_dtc, joblib_file)"
      ]
    },
    {
      "cell_type": "code",
      "execution_count": null,
      "metadata": {},
      "outputs": [],
      "source": [
        "import matplotlib.pyplot as plt\n",
        "import seaborn as sns\n",
        "\n",
        "# graph folder\n",
        "os.chdir(r\"C:\\Users\\Zack\\Desktop\\work\\OSU\\406 - p2 - learning\\jupyter practice\\final models\\graphs\")\n",
        "\n",
        "#size \n",
        "sns.set(rc={'figure.figsize': (6, 6)})\n",
        "\n",
        "print(max_depth)\n",
        "# visualizing changes in parameters\n",
        "sns.lineplot(x='max_depth', y='acc_gini', data=df)\n",
        "sns.lineplot(x='max_depth', y='acc_entropy', data=df)\n",
        "plt.xlabel('max depth')\n",
        "plt.ylabel('accuracy')\n",
        "# plt.xlim(1,30)\n",
        "plt.savefig('gini vs entropy', bbox_inches = 'tight')\n",
        "plt.show()"
      ]
    },
    {
      "source": [
        "### Visualize training tree model"
      ],
      "cell_type": "markdown",
      "metadata": {}
    },
    {
      "cell_type": "code",
      "execution_count": null,
      "metadata": {},
      "outputs": [],
      "source": [
        "from sklearn.tree import export_graphviz\n",
        "from six import StringIO  \n",
        "from IPython.display import Image  \n",
        "import pydotplus\n",
        "\n",
        "# dot_data = StringIO()\n",
        "# # number of unique values in target col\n",
        "# class_names = list(model_frame.categories.unique())\n",
        "\n",
        "# # use trained decision tree model, feature columns, and clases in target col\n",
        "# export_graphviz(dtc, out_file = dot_data, filled=True, rounded=True, special_characters=True,\n",
        "#                 feature_names = features,\n",
        "#                 class_names = class_names)\n",
        "\n",
        "# # creates image and then displays in Jupyter\n",
        "# graph = pydotplus.graph_from_dot_data(dot_data.getvalue())  \n",
        "# graph.write_png('game_classes.png')\n",
        "# Image(graph.create_png())"
      ]
    },
    {
      "cell_type": "code",
      "execution_count": null,
      "metadata": {},
      "outputs": [],
      "source": []
    }
  ]
}